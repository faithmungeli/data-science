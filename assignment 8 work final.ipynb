{
 "cells": [
  {
   "cell_type": "markdown",
   "metadata": {},
   "source": [
    "Using the mbox.txt return a dictionary with all the emails with the number of occurrence they occur  on all the TO and FROM emails."
   ]
  },
  {
   "cell_type": "code",
   "execution_count": 23,
   "metadata": {},
   "outputs": [
    {
     "data": {
      "text/plain": [
       "{'source@collab.sakaiproject.org': 1644,\n",
       " 'stephen.marquard@uct.ac.za': 29,\n",
       " 'louis@media.berkeley.edu': 20,\n",
       " 'zqian@umich.edu': 165,\n",
       " 'rjlowe@iupui.edu': 79,\n",
       " 'cwen@iupui.edu': 157,\n",
       " 'gsilver@umich.edu': 24,\n",
       " 'wagnermr@iupui.edu': 43,\n",
       " 'antranig@caret.cam.ac.uk': 18,\n",
       " 'gopal.ramasammycook@gmail.com': 25,\n",
       " 'david.horwitz@uct.ac.za': 67,\n",
       " 'ray@media.berkeley.edu': 21,\n",
       " 'mmmay@indiana.edu': 161,\n",
       " 'stuart.freeman@et.gatech.edu': 17,\n",
       " 'tnguyen@iupui.edu': 6,\n",
       " 'chmaurer@iupui.edu': 107,\n",
       " 'aaronz@vt.edu': 82,\n",
       " 'ian@caret.cam.ac.uk': 79,\n",
       " 'csev@umich.edu': 19,\n",
       " 'jimeng@umich.edu': 93,\n",
       " 'josrodri@iupui.edu': 28,\n",
       " 'knoop@umich.edu': 5,\n",
       " 'bkirschn@umich.edu': 24,\n",
       " 'dlhaines@umich.edu': 72,\n",
       " 'hu2@iupui.edu': 7,\n",
       " 'sgithens@caret.cam.ac.uk': 43,\n",
       " 'arwhyte@umich.edu': 27,\n",
       " 'gbhatnag@umich.edu': 3,\n",
       " 'gjthomas@iupui.edu': 40,\n",
       " 'a.fish@lancaster.ac.uk': 14,\n",
       " 'ajpoland@iupui.edu': 41,\n",
       " 'lance@indiana.edu': 8,\n",
       " 'ssmail@indiana.edu': 5,\n",
       " 'jlrenfro@ucdavis.edu': 1,\n",
       " 'nuno@ufp.pt': 28,\n",
       " 'zach.thomas@txstate.edu': 14,\n",
       " 'ktsao@stanford.edu': 8,\n",
       " 'ostermmg@whitman.edu': 17,\n",
       " 'john.ellis@rsmart.com': 8,\n",
       " 'jleasia@umich.edu': 2,\n",
       " 'ggolden@umich.edu': 8,\n",
       " 'thoppaymallika@fhda.edu': 1,\n",
       " 'kimsooil@bu.edu': 14,\n",
       " 'bahollad@indiana.edu': 2,\n",
       " 'jzaremba@unicon.net': 5,\n",
       " 'mbreuker@loi.nl': 7}"
      ]
     },
     "execution_count": 23,
     "metadata": {},
     "output_type": "execute_result"
    }
   ],
   "source": [
    "fhandle = open(\"mbox.txt\",'r')\n",
    "mails=dict()\n",
    "def order(y):\n",
    "    return y[1]\n",
    "for i in fhandle:\n",
    "    if i.startswith(\"From:\") or i.startswith(\"To:\"):\n",
    "        a=i.split()\n",
    "        b=a[1]\n",
    "        \n",
    "        if b not in mails:\n",
    "            mails[b]=1\n",
    "        else:\n",
    "            mails[b]=mails[b]+1\n",
    "mails"
   ]
  },
  {
   "cell_type": "code",
   "execution_count": 24,
   "metadata": {},
   "outputs": [],
   "source": [
    "emails=sorted(mails.items())"
   ]
  },
  {
   "cell_type": "code",
   "execution_count": 25,
   "metadata": {},
   "outputs": [
    {
     "name": "stdout",
     "output_type": "stream",
     "text": [
      "[('a.fish@lancaster.ac.uk', 14), ('aaronz@vt.edu', 82), ('ajpoland@iupui.edu', 41), ('antranig@caret.cam.ac.uk', 18), ('arwhyte@umich.edu', 27), ('bahollad@indiana.edu', 2), ('bkirschn@umich.edu', 24), ('chmaurer@iupui.edu', 107), ('csev@umich.edu', 19), ('cwen@iupui.edu', 157), ('david.horwitz@uct.ac.za', 67), ('dlhaines@umich.edu', 72), ('gbhatnag@umich.edu', 3), ('ggolden@umich.edu', 8), ('gjthomas@iupui.edu', 40), ('gopal.ramasammycook@gmail.com', 25), ('gsilver@umich.edu', 24), ('hu2@iupui.edu', 7), ('ian@caret.cam.ac.uk', 79), ('jimeng@umich.edu', 93), ('jleasia@umich.edu', 2), ('jlrenfro@ucdavis.edu', 1), ('john.ellis@rsmart.com', 8), ('josrodri@iupui.edu', 28), ('jzaremba@unicon.net', 5), ('kimsooil@bu.edu', 14), ('knoop@umich.edu', 5), ('ktsao@stanford.edu', 8), ('lance@indiana.edu', 8), ('louis@media.berkeley.edu', 20), ('mbreuker@loi.nl', 7), ('mmmay@indiana.edu', 161), ('nuno@ufp.pt', 28), ('ostermmg@whitman.edu', 17), ('ray@media.berkeley.edu', 21), ('rjlowe@iupui.edu', 79), ('sgithens@caret.cam.ac.uk', 43), ('source@collab.sakaiproject.org', 1644), ('ssmail@indiana.edu', 5), ('stephen.marquard@uct.ac.za', 29), ('stuart.freeman@et.gatech.edu', 17), ('thoppaymallika@fhda.edu', 1), ('tnguyen@iupui.edu', 6), ('wagnermr@iupui.edu', 43), ('zach.thomas@txstate.edu', 14), ('zqian@umich.edu', 165)]\n"
     ]
    }
   ],
   "source": [
    "print(emails)"
   ]
  },
  {
   "cell_type": "code",
   "execution_count": 26,
   "metadata": {},
   "outputs": [],
   "source": [
    "c = sorted(mails.items(), key= order, reverse=True)"
   ]
  },
  {
   "cell_type": "code",
   "execution_count": 27,
   "metadata": {},
   "outputs": [
    {
     "name": "stdout",
     "output_type": "stream",
     "text": [
      "[('source@collab.sakaiproject.org', 1644), ('zqian@umich.edu', 165), ('mmmay@indiana.edu', 161), ('cwen@iupui.edu', 157), ('chmaurer@iupui.edu', 107), ('jimeng@umich.edu', 93), ('aaronz@vt.edu', 82), ('rjlowe@iupui.edu', 79), ('ian@caret.cam.ac.uk', 79), ('dlhaines@umich.edu', 72)]\n"
     ]
    }
   ],
   "source": [
    "print(c[:10])"
   ]
  },
  {
   "cell_type": "code",
   "execution_count": null,
   "metadata": {},
   "outputs": [],
   "source": []
  }
 ],
 "metadata": {
  "kernelspec": {
   "display_name": "Python 3",
   "language": "python",
   "name": "python3"
  },
  "language_info": {
   "codemirror_mode": {
    "name": "ipython",
    "version": 3
   },
   "file_extension": ".py",
   "mimetype": "text/x-python",
   "name": "python",
   "nbconvert_exporter": "python",
   "pygments_lexer": "ipython3",
   "version": "3.7.3"
  }
 },
 "nbformat": 4,
 "nbformat_minor": 2
}
