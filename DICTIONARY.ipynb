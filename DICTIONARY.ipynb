{
 "cells": [
  {
   "cell_type": "markdown",
   "metadata": {},
   "source": [
    " A DICTIONARY IS A BAG OF VALUES EACH WITH ITS OWN LABEL, WE USE A KEY TO QUERY A MINI DATABASE"
   ]
  },
  {
   "cell_type": "markdown",
   "metadata": {},
   "source": [
    "querying a dictionary"
   ]
  },
  {
   "cell_type": "code",
   "execution_count": null,
   "metadata": {},
   "outputs": [],
   "source": [
    "dict_1=dict()\n",
    "dict_2= {}"
   ]
  },
  {
   "cell_type": "code",
   "execution_count": null,
   "metadata": {},
   "outputs": [],
   "source": [
    "dict_1"
   ]
  },
  {
   "cell_type": "code",
   "execution_count": null,
   "metadata": {},
   "outputs": [],
   "source": [
    "dict_2"
   ]
  },
  {
   "cell_type": "code",
   "execution_count": null,
   "metadata": {},
   "outputs": [],
   "source": [
    "type(dict_1)"
   ]
  },
  {
   "cell_type": "code",
   "execution_count": null,
   "metadata": {},
   "outputs": [],
   "source": [
    "dict_1['money']=10\n",
    "dict_1['perfume']=2\n",
    "dict_1['sweets']=17\n",
    "dict_1['cards']=15\n",
    "dict_1['keys']=10\n",
    "dict_1['passport_photo']=5\n",
    "dict_1['jacket']=4\n",
    "dict_1['sweater']=1\n",
    "dict_1['pants']=2\n",
    "dict_1['sock']=6\n",
    "\n"
   ]
  },
  {
   "cell_type": "code",
   "execution_count": null,
   "metadata": {},
   "outputs": [],
   "source": [
    "dict_1"
   ]
  },
  {
   "cell_type": "code",
   "execution_count": null,
   "metadata": {},
   "outputs": [],
   "source": [
    "dict_1['money']"
   ]
  },
  {
   "cell_type": "code",
   "execution_count": null,
   "metadata": {},
   "outputs": [],
   "source": [
    "dict_1['pants']"
   ]
  },
  {
   "cell_type": "code",
   "execution_count": null,
   "metadata": {},
   "outputs": [],
   "source": [
    "del  dict_1['money']#deleting the first key which is money"
   ]
  },
  {
   "cell_type": "code",
   "execution_count": null,
   "metadata": {},
   "outputs": [],
   "source": [
    "dict_1"
   ]
  },
  {
   "cell_type": "code",
   "execution_count": null,
   "metadata": {},
   "outputs": [],
   "source": [
    "dict_1['money']=50#adding a new key called money"
   ]
  },
  {
   "cell_type": "code",
   "execution_count": null,
   "metadata": {},
   "outputs": [],
   "source": [
    "dict_1"
   ]
  },
  {
   "cell_type": "code",
   "execution_count": null,
   "metadata": {},
   "outputs": [],
   "source": [
    "dict_1['jeans']=9"
   ]
  },
  {
   "cell_type": "code",
   "execution_count": null,
   "metadata": {},
   "outputs": [],
   "source": [
    "dict_1"
   ]
  },
  {
   "cell_type": "code",
   "execution_count": null,
   "metadata": {},
   "outputs": [],
   "source": [
    "'socks'in dict_1"
   ]
  },
  {
   "cell_type": "code",
   "execution_count": 22,
   "metadata": {},
   "outputs": [],
   "source": [
    "name_1=['marquard','cwen','cwen','zhen','marquard','zhen','csev','csev','zhen','marquard','zhen','csev','zhen']"
   ]
  },
  {
   "cell_type": "code",
   "execution_count": 23,
   "metadata": {},
   "outputs": [
    {
     "data": {
      "text/plain": [
       "['marquard',\n",
       " 'cwen',\n",
       " 'cwen',\n",
       " 'zhen',\n",
       " 'marquard',\n",
       " 'zhen',\n",
       " 'csev',\n",
       " 'csev',\n",
       " 'zhen',\n",
       " 'marquard',\n",
       " 'zhen',\n",
       " 'csev',\n",
       " 'zhen']"
      ]
     },
     "execution_count": 23,
     "metadata": {},
     "output_type": "execute_result"
    }
   ],
   "source": [
    "name_1"
   ]
  },
  {
   "cell_type": "code",
   "execution_count": 26,
   "metadata": {},
   "outputs": [],
   "source": [
    "names_dict= dict()\n",
    "for i in name_1:\n",
    "    if i not in names_dict:\n",
    "        names_dict [i]=1\n",
    "    else:\n",
    "        names_dict[i]=names_dict[i]+1"
   ]
  },
  {
   "cell_type": "code",
   "execution_count": 28,
   "metadata": {},
   "outputs": [
    {
     "data": {
      "text/plain": [
       "{'marquard': 3, 'cwen': 2, 'zhen': 5, 'csev': 3}"
      ]
     },
     "execution_count": 28,
     "metadata": {},
     "output_type": "execute_result"
    }
   ],
   "source": [
    "names_dict"
   ]
  },
  {
   "cell_type": "markdown",
   "metadata": {},
   "source": [
    "iterations/loops"
   ]
  },
  {
   "cell_type": "code",
   "execution_count": 30,
   "metadata": {},
   "outputs": [
    {
     "name": "stdout",
     "output_type": "stream",
     "text": [
      "{'marquard': 3, 'cwen': 2, 'zhen': 5, 'csev': 3}\n",
      "{'marquard': 3, 'cwen': 2, 'zhen': 5, 'csev': 3}\n",
      "{'marquard': 3, 'cwen': 2, 'zhen': 5, 'csev': 3}\n",
      "{'marquard': 3, 'cwen': 2, 'zhen': 5, 'csev': 3}\n"
     ]
    }
   ],
   "source": [
    "for a,b in names_dict.items():\n",
    "    print(names_dict)\n",
    "\n"
   ]
  },
  {
   "cell_type": "code",
   "execution_count": 32,
   "metadata": {},
   "outputs": [
    {
     "name": "stdout",
     "output_type": "stream",
     "text": [
      "keys :  marquard values : 3\n",
      "keys :  cwen values : 2\n",
      "keys :  zhen values : 5\n",
      "keys :  csev values : 3\n"
     ]
    }
   ],
   "source": [
    "for a,b in names_dict.items():\n",
    "    print('keys : ',a,'values :',b)"
   ]
  },
  {
   "cell_type": "code",
   "execution_count": 34,
   "metadata": {},
   "outputs": [
    {
     "name": "stdout",
     "output_type": "stream",
     "text": [
      "keys  : marquard\n",
      "keys  : cwen\n",
      "keys  : zhen\n",
      "keys  : csev\n"
     ]
    }
   ],
   "source": [
    "for a in names_dict.keys():\n",
    "    print('keys  :',a)"
   ]
  },
  {
   "cell_type": "code",
   "execution_count": 36,
   "metadata": {},
   "outputs": [
    {
     "name": "stdout",
     "output_type": "stream",
     "text": [
      "values : 3\n",
      "values : 2\n",
      "values : 5\n",
      "values : 3\n"
     ]
    }
   ],
   "source": [
    "for b in names_dict.values():\n",
    "    print('values :',b)"
   ]
  },
  {
   "cell_type": "code",
   "execution_count": null,
   "metadata": {},
   "outputs": [],
   "source": []
  },
  {
   "cell_type": "code",
   "execution_count": null,
   "metadata": {},
   "outputs": [],
   "source": []
  },
  {
   "cell_type": "code",
   "execution_count": null,
   "metadata": {},
   "outputs": [],
   "source": []
  }
 ],
 "metadata": {
  "kernelspec": {
   "display_name": "Python 3",
   "language": "python",
   "name": "python3"
  },
  "language_info": {
   "codemirror_mode": {
    "name": "ipython",
    "version": 3
   },
   "file_extension": ".py",
   "mimetype": "text/x-python",
   "name": "python",
   "nbconvert_exporter": "python",
   "pygments_lexer": "ipython3",
   "version": "3.7.3"
  }
 },
 "nbformat": 4,
 "nbformat_minor": 2
}
