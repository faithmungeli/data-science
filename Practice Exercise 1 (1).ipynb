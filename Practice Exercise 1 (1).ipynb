{
 "cells": [
  {
   "cell_type": "markdown",
   "metadata": {},
   "source": [
    "# Question 1 "
   ]
  },
  {
   "cell_type": "code",
   "execution_count": 1,
   "metadata": {},
   "outputs": [
    {
     "name": "stdout",
     "output_type": "stream",
     "text": [
      "Enter the length: 10\n",
      "Enter the  width: 20\n",
      "a rectangle.\n"
     ]
    }
   ],
   "source": [
    "try:\n",
    "    length = float(input(\"Enter the length: \"))\n",
    "    width = float(input(\"Enter the  width: \"))\n",
    "\n",
    "    if length == width:\n",
    "        print(\"a square.\")\n",
    "    else:\n",
    "        print(\"a rectangle.\")\n",
    "except:\n",
    "    print(\"Enter Numerical values please..\")"
   ]
  },
  {
   "cell_type": "markdown",
   "metadata": {},
   "source": [
    "# Question 2"
   ]
  },
  {
   "cell_type": "code",
   "execution_count": 2,
   "metadata": {},
   "outputs": [
    {
     "name": "stdout",
     "output_type": "stream",
     "text": [
      "Enter value 'a'10\n",
      "Enter value 'b'20\n",
      "20 is greater than 10\n"
     ]
    }
   ],
   "source": [
    "try:\n",
    "    a = int(input(\"Enter value 'a'\"))\n",
    "    b = int(input(\"Enter value 'b'\"))\n",
    "\n",
    "    if a > b:\n",
    "        print(a,\"is greater than\",b)\n",
    "    elif a < b:\n",
    "        print(b,'is greater than',a)\n",
    "    else:\n",
    "        print('a is equal to b')\n",
    "except:\n",
    "    print('Please enter integer values')"
   ]
  },
  {
   "cell_type": "markdown",
   "metadata": {},
   "source": [
    "# Question 3"
   ]
  },
  {
   "cell_type": "code",
   "execution_count": 4,
   "metadata": {},
   "outputs": [
    {
     "name": "stdout",
     "output_type": "stream",
     "text": [
      "Enter  quantity of goods bought: 200\n",
      "total cost is 18000.0 and the Discount is 2000.0\n"
     ]
    }
   ],
   "source": [
    "try:\n",
    "    quantity = float(input(\"Enter  quantity of goods bought: \"))\n",
    "    unit = 100\n",
    "    Cost = quantity*unit\n",
    "    Discount = 0\n",
    "    if Cost >1000:\n",
    "        Discount = 10/100*Cost\n",
    "        Total_Cost = Cost - Discount\n",
    "    else:\n",
    "        Total_Cost = Cost\n",
    "    print(\"total cost is\",Total_Cost,\"and the Discount is\",Discount)\n",
    "except:\n",
    "    print(\"Please enter numerical values\")"
   ]
  },
  {
   "cell_type": "markdown",
   "metadata": {},
   "source": [
    "# Question 4"
   ]
  },
  {
   "cell_type": "code",
   "execution_count": 5,
   "metadata": {},
   "outputs": [
    {
     "name": "stdout",
     "output_type": "stream",
     "text": [
      "Enter  sal value: 2000\n",
      "Enter years of service with the organization: 5\n",
      "the bonus is 100.0 and the Net Bonus is 2100.0\n"
     ]
    }
   ],
   "source": [
    "try:\n",
    "    sal = float(input(\"Enter  sal value: \"))\n",
    "    yrs = float(input(\"Enter years of service with the organization: \"))\n",
    "    if yrs <=5:\n",
    "        Bonus = 5/100 * sal\n",
    "        Net_bonus = sal + Bonus\n",
    "    elif yrs < 10:\n",
    "        Bonus = 10/100 * sal\n",
    "        Net_bonus = sal + Bonus\n",
    "    elif yrs >=10:\n",
    "        Bonus = 15/100 * sal\n",
    "        Net_bonus = sal + Bonus\n",
    "    print(\"the bonus is\",Bonus,\"and the Net Bonus is\",Net_bonus)\n",
    "except:\n",
    "    print(\"please enter the numerical values .\")"
   ]
  },
  {
   "cell_type": "markdown",
   "metadata": {},
   "source": [
    "# Question 5"
   ]
  },
  {
   "cell_type": "code",
   "execution_count": 7,
   "metadata": {},
   "outputs": [
    {
     "name": "stdout",
     "output_type": "stream",
     "text": [
      "Enter the scores: 50\n",
      "Grade: c\n"
     ]
    }
   ],
   "source": [
    "try:    \n",
    "    score = float(input(\"Enter the scores: \"))\n",
    "    \n",
    "    if score < 0:\n",
    "        print(\"Enter a val more than 0\")\n",
    "    elif score  > 100:\n",
    "        print(\"Enter a val less than 100\")\n",
    "    elif score  < 25:\n",
    "        print(\"Grade: F\")\n",
    "    elif score  < 45:\n",
    "        print(\"Grade: E\")\n",
    "    elif score  < 50:\n",
    "        print(\"Grade: D\")\n",
    "    elif score  < 60:\n",
    "        print(\"Grade: c\")\n",
    "    elif score  <= 80:\n",
    "        print(\"Grade: B\")\n",
    "    elif score  > 80:\n",
    "        print(\"Grade: A\")\n",
    "except:\n",
    "    print(\"input the numerical values.\")"
   ]
  },
  {
   "cell_type": "markdown",
   "metadata": {},
   "source": [
    "# Question 6"
   ]
  },
  {
   "cell_type": "code",
   "execution_count": 27,
   "metadata": {},
   "outputs": [
    {
     "name": "stdout",
     "output_type": "stream",
     "text": [
      "Enter the name of the 1st person:John\n",
      "Enter the name of the 2nd person:James\n",
      "Enter the name of the 3rd person:Jacob\n",
      "Enter the age of the 1st person:12\n",
      "Enter the age of the 2nd person:2\n",
      "Enter the age of the 3rd person:32\n",
      "Jacob is the oldest and James is the youngest.\n",
      "15.333333333333334\n"
     ]
    }
   ],
   "source": [
    "try:\n",
    "    p1 = str(input(\"Enter the  p1:\"))\n",
    "    p2 = str(input(\"Enter the  p2:\"))\n",
    "    p3 = str(input(\"Enter the p3:\"))\n",
    "    \n",
    "    age1 = float(input(\"Enter the age of the 1st person:\"))\n",
    "    age2 = float(input(\"Enter the age of the 2nd person:\"))\n",
    "    age3 = float(input(\"Enter the age of the 3rd person:\"))\n",
    "    \n",
    "    if age1 > age2 and age2 > age3:\n",
    "        print(person1+\" is the oldest and \"+person3+\" is the youngest.\")\n",
    "    elif age1 > age3 and age3 > age2:\n",
    "        print(person1+\" is the oldest and \"+person2+\" is the youngest.\")\n",
    "    elif age2 > age1 and age1 > age3:\n",
    "        print(person2+\" is the oldest and \"+person3+\" is the youngest.\")\n",
    "    elif age2 > age1 and age1 > age3:\n",
    "        print(person2+\" is the oldest and \"+person3+\" is the youngest.\")\n",
    "    elif age3 > age1 and age1 > age2:\n",
    "        print(person3+\" is the oldest and \"+person2+\" is the youngest.\")\n",
    "    elif age3 > age2 and age2 > age1:\n",
    "        print(person3+\" is the oldest and \"+person1+\" is the youngest.\")\n",
    "    print((age1+age2+age3)/3)\n",
    "    \n",
    "except:\n",
    "    print(\"Enter numerical values: \")"
   ]
  },
  {
   "cell_type": "markdown",
   "metadata": {},
   "source": [
    "# Question 7"
   ]
  },
  {
   "cell_type": "code",
   "execution_count": 31,
   "metadata": {},
   "outputs": [
    {
     "name": "stdout",
     "output_type": "stream",
     "text": [
      "Enter the number of classes held: 1\n",
      "Enter the number of classes attended: 32\n",
      "Attendance: 3200.0 %\n",
      "Please enter correct class attendance/classes held.\n"
     ]
    }
   ],
   "source": [
    "try:\n",
    "    class_held = float(input(\"Enter the number of classes held: \"))\n",
    "    class_attended = float(input(\"Enter the number of classes attended: \"))\n",
    "    \n",
    "    attendance = (class_attended/class_held)*100\n",
    "    print(\"Attendance:\",attendance,\"%\")\n",
    "    if attendance > 100 or attendance < 0:\n",
    "        print(\"Please enter correct class attendance/classes held.\")\n",
    "    elif attendance >= 75:\n",
    "        print(\"Allowed to sit for exams.\")\n",
    "    else:\n",
    "        print(\"Not allowed to sit for exams.\")\n",
    "except:\n",
    "    print(\"Please enter numerical values only.\")"
   ]
  },
  {
   "cell_type": "markdown",
   "metadata": {},
   "source": [
    "# Question 8"
   ]
  },
  {
   "cell_type": "code",
   "execution_count": 35,
   "metadata": {},
   "outputs": [
    {
     "name": "stdout",
     "output_type": "stream",
     "text": [
      "Enter the number of classes held: 12\n",
      "Enter the number of classes attended: 2\n",
      "Do you have a medical cause: Y/N- Y\n",
      "Attendance: 16.666666666666664 %\n",
      "Allowed to sit for exams.\n"
     ]
    }
   ],
   "source": [
    "try:\n",
    "    class_held = float(input(\"Enter the number of classes held: \"))\n",
    "    class_attended = float(input(\"Enter the number of classes attended: \"))\n",
    "    medical_cause = str(input(\"Do you have a medical cause: Y/N- \"))\n",
    "    \n",
    "    attendance = (class_attended/class_held)*100\n",
    "    print(\"Attendance:\",attendance,\"%\")\n",
    "    if attendance > 100 or attendance < 0:\n",
    "        print(\"Please enter correct class attendance/classes held.\")\n",
    "    elif attendance >= 75 or medical_cause == \"Y\":\n",
    "        print(\"Allowed to sit for exams.\")\n",
    "    else:\n",
    "        print(\"Not allowed to sit for exams.\")\n",
    "except:\n",
    "    print(\"Please enter numerical values only.\")"
   ]
  },
  {
   "cell_type": "code",
   "execution_count": null,
   "metadata": {},
   "outputs": [],
   "source": []
  }
 ],
 "metadata": {
  "kernelspec": {
   "display_name": "Python 3",
   "language": "python",
   "name": "python3"
  },
  "language_info": {
   "codemirror_mode": {
    "name": "ipython",
    "version": 3
   },
   "file_extension": ".py",
   "mimetype": "text/x-python",
   "name": "python",
   "nbconvert_exporter": "python",
   "pygments_lexer": "ipython3",
   "version": "3.7.3"
  }
 },
 "nbformat": 4,
 "nbformat_minor": 2
}
