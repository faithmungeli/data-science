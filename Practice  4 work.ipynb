{
 "cells": [
  {
   "cell_type": "markdown",
   "metadata": {},
   "source": [
    "# Question 1 "
   ]
  },
  {
   "cell_type": "code",
   "execution_count": 1,
   "metadata": {},
   "outputs": [
    {
     "name": "stdout",
     "output_type": "stream",
     "text": [
      "[6, 12, 18, 4, 12, 20, 28]\n"
     ]
    }
   ],
   "source": [
    "list1 = [3, 6, 9, 12, 15, 18, 21]\n",
    "list2 = [4, 8, 12, 16, 20, 24, 28]\n",
    "print(list1[1::2]+list2[0::2])"
   ]
  },
  {
   "cell_type": "markdown",
   "metadata": {},
   "source": [
    "# Question 2"
   ]
  },
  {
   "cell_type": "code",
   "execution_count": 8,
   "metadata": {},
   "outputs": [
    {
     "name": "stdout",
     "output_type": "stream",
     "text": [
      "(30, 60, 45)\n"
     ]
    }
   ],
   "source": [
    "Set1 = (10, 30, 40 , 60, 45)\n",
    "Set2 = (20, 50, 10 , 40, 55)\n",
    "List = list()\n",
    "a = list(Set1)\n",
    "b = list(Set2)\n",
    "for c in Set1:\n",
    "    for d in Set2:\n",
    "        if d == c:\n",
    "            a.remove(d)\n",
    "        else:\n",
    "            continue\n",
    "Outcome = tuple(a)\n",
    "print(Outcome)"
   ]
  },
  {
   "cell_type": "markdown",
   "metadata": {},
   "source": [
    "# Question 3"
   ]
  },
  {
   "cell_type": "code",
   "execution_count": 11,
   "metadata": {},
   "outputs": [
    {
     "name": "stdout",
     "output_type": "stream",
     "text": [
      "Enter  numbers: 1,2,3,5,6,7,8,9\n",
      "[1, 2, 3, 5, 6, 7, 8, 9]\n",
      "[1, 2, 6, 3, 5, 7, 8, 9, 6]\n"
     ]
    }
   ],
   "source": [
    "numbers = input(\"Enter  numbers: \")\n",
    "list1 = numbers.split(\",\")\n",
    "for i in (list1):\n",
    "    list1[list1.index(i)] = int(i)\n",
    "print(list1)\n",
    "x = list1[4]\n",
    "list1.remove(x)\n",
    "list1.insert(2,x)\n",
    "list1.append(x)\n",
    "print(list1)"
   ]
  },
  {
   "cell_type": "markdown",
   "metadata": {},
   "source": [
    "# Question 5"
   ]
  },
  {
   "cell_type": "code",
   "execution_count": 12,
   "metadata": {},
   "outputs": [
    {
     "name": "stdout",
     "output_type": "stream",
     "text": [
      "[6, 5, 4] [3, 2, 1] [9, 8, 7]\n"
     ]
    }
   ],
   "source": [
    "a = [1, 2, 3, 4, 5, 6, 7, 8, 9]\n",
    "\n",
    "e = a[0:3]\n",
    "f = a[3:6]\n",
    "g = a[6:9]\n",
    "e.reverse()\n",
    "f.reverse()\n",
    "g.reverse()\n",
    "print(f,e,g)"
   ]
  },
  {
   "cell_type": "markdown",
   "metadata": {},
   "source": [
    "# Question 6"
   ]
  },
  {
   "cell_type": "code",
   "execution_count": 15,
   "metadata": {},
   "outputs": [
    {
     "name": "stdout",
     "output_type": "stream",
     "text": [
      "{10: 2, 20: 2, 30: 1, 40: 1, 50: 1}\n"
     ]
    }
   ],
   "source": [
    "list2 =[10, 20, 30, 10, 20, 40, 50]\n",
    "dict1 ={}\n",
    "for i in list2:\n",
    "    dict1[i] = dict1.get(i,0) + 1\n",
    "print(dict1)"
   ]
  },
  {
   "cell_type": "markdown",
   "metadata": {},
   "source": [
    "# Question 7"
   ]
  },
  {
   "cell_type": "code",
   "execution_count": 17,
   "metadata": {},
   "outputs": [
    {
     "name": "stdout",
     "output_type": "stream",
     "text": [
      "[47, 69, 76, 97]\n"
     ]
    }
   ],
   "source": [
    "RollNumber = [47,64,69,37,76,83,95,97]\n",
    "Dict ={'Jhon':47, 'Emma':69, 'Kelly':76, 'Jason':97}\n",
    "a = list()\n",
    "remove = list()\n",
    "for i in RollNumber:\n",
    "    if i not in list(Dict.values()):\n",
    "        remove.append(i)\n",
    "for a in range(len(remove)):\n",
    "    RollNumber.remove(remove[a])\n",
    "print(RollNumber)"
   ]
  },
  {
   "cell_type": "markdown",
   "metadata": {},
   "source": [
    "# Question 8"
   ]
  },
  {
   "cell_type": "code",
   "execution_count": 19,
   "metadata": {},
   "outputs": [
    {
     "name": "stdout",
     "output_type": "stream",
     "text": [
      "[87, 45, 65, 41, 99, 94]\n",
      "(87, 45, 65, 41, 99, 94)\n",
      "41\n",
      "99\n"
     ]
    }
   ],
   "source": [
    "list4 = [87, 45, 41, 65, 94, 41, 99, 94]\n",
    "list5 = list4\n",
    "for a in list5:\n",
    "    i = list5.count(a)\n",
    "    if i>1:\n",
    "        list4.remove(a)\n",
    "print(list4)\n",
    "print(tuple(list4))\n",
    "print(min(list4))\n",
    "print(max(list4))"
   ]
  },
  {
   "cell_type": "markdown",
   "metadata": {},
   "source": [
    "# Question 9"
   ]
  },
  {
   "cell_type": "code",
   "execution_count": 20,
   "metadata": {},
   "outputs": [
    {
     "name": "stdout",
     "output_type": "stream",
     "text": [
      "{'p': 3, 'y': 3, 'n': 3, 'a': 2, 't': 2, 'i': 2, 'v': 3, 'e': 3}\n"
     ]
    }
   ],
   "source": [
    "word =\"pynativepynvepynative\"\n",
    "xters = list(word)\n",
    "count = dict()\n",
    "for i in xters:\n",
    "    count[i] = count.get(i,0) + 1\n",
    "print(count)"
   ]
  },
  {
   "cell_type": "markdown",
   "metadata": {},
   "source": [
    "# Question 10"
   ]
  },
  {
   "cell_type": "code",
   "execution_count": 24,
   "metadata": {},
   "outputs": [
    {
     "name": "stdout",
     "output_type": "stream",
     "text": [
      "xters:  15\n",
      "['P', '@', '#', 'y', 'n', '2', '6', 'a', 't', '^', '&', 'i', '5', 'v', 'e']\n",
      "xters in uppercase,  1\n",
      "xters in uppercase,  7\n",
      "the Num:  3\n",
      "the sym:  4\n"
     ]
    }
   ],
   "source": [
    "xters = \"P@#yn26at^&i5ve\"\n",
    "print(\"xters: \",len(xters))\n",
    "special = list(xters)\n",
    "Num = 0\n",
    "Lowercase = 0\n",
    "Uppercase = 0\n",
    "Sym= 0\n",
    "print(special)\n",
    "for i in special:\n",
    "    if i.isdigit():\n",
    "        Num = Num + 1\n",
    "    elif i.islower():\n",
    "        Lowercase = Lowercase + 1\n",
    "    elif i.isupper():\n",
    "        Uppercase = Uppercase + 1\n",
    "    else:\n",
    "        Sym= Sym + 1\n",
    "print(\"xters in uppercase, \",Uppercase)\n",
    "print(\"xters in uppercase, \",Lowercase)\n",
    "print(\"the Num: \",Num)\n",
    "print(\"the sym: \",Sym)"
   ]
  },
  {
   "cell_type": "markdown",
   "metadata": {},
   "source": [
    "# Question 11 "
   ]
  },
  {
   "cell_type": "code",
   "execution_count": 28,
   "metadata": {},
   "outputs": [
    {
     "name": "stdout",
     "output_type": "stream",
     "text": [
      "Enter the char:faith\n",
      "ait\n"
     ]
    }
   ],
   "source": [
    "char = input(\"Enter the char:\")\n",
    "\n",
    "if len(char)%2 ==0 and len(char)>=7:\n",
    "    \"Enter an odd numbered name! And of a length greater than 7\"\n",
    "else:\n",
    "    f = 7\n",
    "    f1 = len(char)\n",
    "    middle = (2 + (f1-f)/2)\n",
    "    middle1 = middle+3\n",
    "    outcome = char[int(middle):int(middle1)]\n",
    "    print(outcome)"
   ]
  },
  {
   "cell_type": "code",
   "execution_count": null,
   "metadata": {},
   "outputs": [],
   "source": []
  }
 ],
 "metadata": {
  "kernelspec": {
   "display_name": "Python 3",
   "language": "python",
   "name": "python3"
  },
  "language_info": {
   "codemirror_mode": {
    "name": "ipython",
    "version": 3
   },
   "file_extension": ".py",
   "mimetype": "text/x-python",
   "name": "python",
   "nbconvert_exporter": "python",
   "pygments_lexer": "ipython3",
   "version": "3.7.3"
  }
 },
 "nbformat": 4,
 "nbformat_minor": 2
}
