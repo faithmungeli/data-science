{
 "cells": [
  {
   "cell_type": "code",
   "execution_count": 8,
   "metadata": {},
   "outputs": [
    {
     "name": "stdout",
     "output_type": "stream",
     "text": [
      "************\n",
      "*          *\n",
      "*          *\n",
      "*          *\n",
      "*          *\n",
      "************\n"
     ]
    }
   ],
   "source": [
    "# Python 3 code for hollow square\n",
    "  \n",
    "# Function to print hollow square \n",
    "def print_square(n, m) : \n",
    "      \n",
    "    for i in range(1, n+1) : \n",
    "        for j in range(1, m+1) : \n",
    "            if (i == 1 or i == n or\n",
    "                j == 1 or j == m) : \n",
    "                print(\"*\", end=\"\")             \n",
    "            else : \n",
    "                print(\" \", end=\"\")             \n",
    "          \n",
    "        print() \n",
    "  \n",
    "  \n",
    "# Driver program for above function \n",
    "rows = 6\n",
    "columns = 12\n",
    "print_square(rows, columns) \n",
    "  \n",
    "  "
   ]
  },
  {
   "cell_type": "code",
   "execution_count": null,
   "metadata": {},
   "outputs": [],
   "source": []
  },
  {
   "cell_type": "code",
   "execution_count": null,
   "metadata": {},
   "outputs": [],
   "source": []
  }
 ],
 "metadata": {
  "kernelspec": {
   "display_name": "Python 3",
   "language": "python",
   "name": "python3"
  },
  "language_info": {
   "codemirror_mode": {
    "name": "ipython",
    "version": 3
   },
   "file_extension": ".py",
   "mimetype": "text/x-python",
   "name": "python",
   "nbconvert_exporter": "python",
   "pygments_lexer": "ipython3",
   "version": "3.7.1"
  }
 },
 "nbformat": 4,
 "nbformat_minor": 2
}
