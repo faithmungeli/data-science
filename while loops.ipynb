{
 "cells": [
  {
   "cell_type": "code",
   "execution_count": 6,
   "metadata": {},
   "outputs": [
    {
     "name": "stdout",
     "output_type": "stream",
     "text": [
      "y= 0\n",
      "still smaller than\n",
      "y= 2\n",
      "still smaller than\n",
      "y= 4\n",
      "still smaller than\n",
      "y= 6\n",
      "still smaller than\n",
      "y= 8\n",
      "still smaller than\n",
      "equal\n"
     ]
    }
   ],
   "source": [
    "y=0\n",
    "while y<10:\n",
    "    print('y=',y)\n",
    "    print('still smaller than')\n",
    "    y+=2\n",
    "    \n",
    "else:\n",
    "    print('equal')"
   ]
  },
  {
   "cell_type": "code",
   "execution_count": 3,
   "metadata": {},
   "outputs": [
    {
     "name": "stdout",
     "output_type": "stream",
     "text": [
      "x= 50\n",
      "still greater than\n",
      "x= 45\n",
      "still greater than\n",
      "x= 40\n",
      "still greater than\n",
      "x= 35\n",
      "still greater than\n",
      "x= 30\n",
      "still greater than\n",
      "x= 25\n",
      "still greater than\n",
      "x= 20\n",
      "still greater than\n",
      "x= 15\n",
      "still greater than\n",
      "equal\n"
     ]
    }
   ],
   "source": [
    "x=50\n",
    "while x>10:\n",
    "    print('x=',x)\n",
    "    print('still greater than')\n",
    "    x-=5\n",
    "else:\n",
    "    print('equal')"
   ]
  },
  {
   "cell_type": "code",
   "execution_count": null,
   "metadata": {},
   "outputs": [],
   "source": []
  }
 ],
 "metadata": {
  "kernelspec": {
   "display_name": "Python 3",
   "language": "python",
   "name": "python3"
  },
  "language_info": {
   "codemirror_mode": {
    "name": "ipython",
    "version": 3
   },
   "file_extension": ".py",
   "mimetype": "text/x-python",
   "name": "python",
   "nbconvert_exporter": "python",
   "pygments_lexer": "ipython3",
   "version": "3.7.1"
  }
 },
 "nbformat": 4,
 "nbformat_minor": 2
}
