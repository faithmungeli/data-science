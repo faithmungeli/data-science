{
 "cells": [
  {
   "cell_type": "markdown",
   "metadata": {},
   "source": [
    "Question 1.\n",
    "It takes values of length and width of a rectangle from user and check if it is square or not."
   ]
  },
  {
   "cell_type": "code",
   "execution_count": 1,
   "metadata": {},
   "outputs": [
    {
     "name": "stdout",
     "output_type": "stream",
     "text": [
      "Please enter the length: 10\n",
      "please enter the width: 10\n",
      "the square\n"
     ]
    }
   ],
   "source": [
    "try:\n",
    "    length= int(input(\"Please enter the length: \"))\n",
    "    width = int(input(\"please enter the width: \"))\n",
    "    length=float(length)\n",
    "    width=float(width)\n",
    "    if length!=width:\n",
    "         print('the square is not a rectangle')\n",
    "    else:\n",
    "        print('the square')\n",
    "except:\n",
    "    print('you have not entered a numerical value')\n"
   ]
  },
  {
   "cell_type": "markdown",
   "metadata": {},
   "source": [
    "question 2.Take two int values from user and print greatest among them."
   ]
  },
  {
   "cell_type": "code",
   "execution_count": 2,
   "metadata": {},
   "outputs": [
    {
     "name": "stdout",
     "output_type": "stream",
     "text": [
      "please enter the value of a10\n",
      "please enter the value of b20\n",
      "b\n"
     ]
    }
   ],
   "source": [
    "try:\n",
    "    a=int(input('please enter the value of a'))\n",
    "    b=int(input('please enter the value of b'))\n",
    "    a=float(a)\n",
    "    b=float(b)\n",
    "    if b>a:\n",
    "        print('b')\n",
    "    elif a>b:\n",
    "        print('a')\n",
    "    else:\n",
    "        print('equal')\n",
    "except:\n",
    "    print('you have not entered a numerical value')\n",
    "    \n",
    "    \n",
    "  \n",
    "        "
   ]
  },
  {
   "cell_type": "markdown",
   "metadata": {},
   "source": [
    "question3.\n",
    "A shop will give discount of 10% if the cost of purchased quantity is more than 1000.\n",
    "ask user for quantity,suppose one unit will cost 100.\n",
    "judge and print total cost for user."
   ]
  },
  {
   "cell_type": "code",
   "execution_count": 5,
   "metadata": {},
   "outputs": [
    {
     "name": "stdout",
     "output_type": "stream",
     "text": [
      "please enter the quantity10\n",
      "totalcost\n"
     ]
    }
   ],
   "source": [
    "try:\n",
    "    quantity=int(input('please enter the quantity'))\n",
    "    cost=100\n",
    "    totalcost=cost*quantity\n",
    "    if totalcost>1000:\n",
    "        totalcost=totalcost-(totalcost*10/100)\n",
    "        print(totalcost)\n",
    "        discount =(100*quantity)-(totalcost)\n",
    "        print(discount)\n",
    "    else:\n",
    "        print('totalcost')\n",
    "\n",
    "except:\n",
    "    print('you have not entered a numerical value')\n",
    "\n",
    "\n",
    "        \n",
    "    \n",
    "     "
   ]
  },
  {
   "cell_type": "markdown",
   "metadata": {},
   "source": [
    "question 4."
   ]
  },
  {
   "cell_type": "code",
   "execution_count": 5,
   "metadata": {},
   "outputs": [
    {
     "name": "stdout",
     "output_type": "stream",
     "text": [
      "salary:10000\n",
      "yrs_of_service:2\n",
      "10500.0\n"
     ]
    }
   ],
   "source": [
    "try:\n",
    "    sal=float(input('salary:'))\n",
    "    yrsofservice=float(input('yrs_of_service:'))\n",
    "    if yrsofservice<5:\n",
    "        bonus=sal+(sal*5/100)\n",
    "        print(bonus)\n",
    "    elif yrsofservice<10:\n",
    "        bonus=sal+(sal*10/100)\n",
    "        print(bonus)\n",
    "    elif yrsofservice>10:\n",
    "        bonus=sal+(sal*15/100)\n",
    "        print(bonus)\n",
    "except:\n",
    "        print('you have not entered a numerical value')"
   ]
  },
  {
   "cell_type": "markdown",
   "metadata": {},
   "source": [
    "question 5."
   ]
  },
  {
   "cell_type": "code",
   "execution_count": 7,
   "metadata": {},
   "outputs": [
    {
     "name": "stdout",
     "output_type": "stream",
     "text": [
      "score:50\n",
      "d\n"
     ]
    }
   ],
   "source": [
    "try:\n",
    "    score=float(input('score:'))\n",
    "    if score<=25:\n",
    "        print('f')\n",
    "    elif score<=45:\n",
    "        print('e')\n",
    "    elif score<=50:\n",
    "        print('d')\n",
    "    elif score<=60:\n",
    "        print('c')\n",
    "    elif score<=80:\n",
    "        print('b')\n",
    "    else:\n",
    "        print('a')\n",
    "except:\n",
    "        print('you have not entered a numerical value')"
   ]
  },
  {
   "cell_type": "markdown",
   "metadata": {},
   "source": [
    "question 6."
   ]
  },
  {
   "cell_type": "code",
   "execution_count": 11,
   "metadata": {},
   "outputs": [
    {
     "name": "stdout",
     "output_type": "stream",
     "text": [
      "age one:20\n",
      "age two:40\n",
      "age three:50\n",
      "secperson is oldest\n",
      "thirdperson is oldest\n",
      "fperson is youngest\n",
      "equal ages\n",
      "76\n"
     ]
    }
   ],
   "source": [
    "try:#fperson first person, sec is sceondperson\n",
    "    fperson=int(input('age one:'))\n",
    "    secperson=int(input('age two:'))\n",
    "    thirdperson=int(input('age three:'))\n",
    "    if fperson> secperson and thirdperson :\n",
    "        print('fperson is oldest')\n",
    "    if secperson> fperson and thirdperson :\n",
    "        print('secperson is oldest')\n",
    "    if thirdperson> secperson and fperson :\n",
    "        print('thirdperson is oldest')\n",
    "    else:\n",
    "        print('equal ages')\n",
    "    if fperson<secperson and thirdperson :\n",
    "        print('fperson is youngest')\n",
    "    if secperson< fperson and thirdperson :\n",
    "        print('secperson is youngest')\n",
    "    if thirdperson<secperson and fperson :\n",
    "        print('thirdperson is youngest')\n",
    "    else:\n",
    "        print('equal ages')\n",
    "    avgage=int((fperson+secperson+thirdperson/3))\n",
    "    print(avgage)\n",
    "except:\n",
    "        print('you have not entered a numerical value')\n",
    "  "
   ]
  },
  {
   "cell_type": "markdown",
   "metadata": {},
   "source": [
    "question 7"
   ]
  },
  {
   "cell_type": "code",
   "execution_count": 13,
   "metadata": {},
   "outputs": [
    {
     "name": "stdout",
     "output_type": "stream",
     "text": [
      "number of classes:45\n",
      "classes attended:30\n",
      "students not allowed to sit for exams\n",
      "66.66666666666666\n"
     ]
    }
   ],
   "source": [
    "try:#noc is number of classes\n",
    "    noc=float(input('number of classes:'))\n",
    "    ca=float(input('classes attended:'))\n",
    "    if ca<(noc)*(75/100):\n",
    "        print('students not allowed to sit for exams')\n",
    "    else:\n",
    "        print('students allowed to sit for exams')\n",
    "    percentage=(ca/noc)*100\n",
    "    print(percentage)\n",
    "except:\n",
    "        print('you have not entered a numerical value')\n",
    "       "
   ]
  },
  {
   "cell_type": "markdown",
   "metadata": {},
   "source": [
    "question 8."
   ]
  },
  {
   "cell_type": "code",
   "execution_count": 16,
   "metadata": {},
   "outputs": [
    {
     "name": "stdout",
     "output_type": "stream",
     "text": [
      "what is the student medical cause   n\n",
      "student allowed to sit for exam\n"
     ]
    }
   ],
   "source": [
    "_input=str(input('what is the student medical cause   '))\n",
    "if _input is 'y':\n",
    "    print('student not allowed to sit for exam')\n",
    "elif _input is 'n':\n",
    "    print('student allowed to sit for exam')"
   ]
  },
  {
   "cell_type": "code",
   "execution_count": null,
   "metadata": {},
   "outputs": [],
   "source": []
  }
 ],
 "metadata": {
  "kernelspec": {
   "display_name": "Python 3",
   "language": "python",
   "name": "python3"
  },
  "language_info": {
   "codemirror_mode": {
    "name": "ipython",
    "version": 3
   },
   "file_extension": ".py",
   "mimetype": "text/x-python",
   "name": "python",
   "nbconvert_exporter": "python",
   "pygments_lexer": "ipython3",
   "version": "3.7.3"
  }
 },
 "nbformat": 4,
 "nbformat_minor": 2
}
