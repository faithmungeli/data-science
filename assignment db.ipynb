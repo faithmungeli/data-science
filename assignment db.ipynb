{
 "cells": [
  {
   "cell_type": "code",
   "execution_count": 10,
   "metadata": {},
   "outputs": [
    {
     "data": {
      "text/plain": [
       "[('source@collab.sakaiproject.org', 1644),\n",
       " ('zqian@umich.edu', 165),\n",
       " ('mmmay@indiana.edu', 161),\n",
       " ('cwen@iupui.edu', 157),\n",
       " ('chmaurer@iupui.edu', 107),\n",
       " ('jimeng@umich.edu', 93),\n",
       " ('aaronz@vt.edu', 82),\n",
       " ('rjlowe@iupui.edu', 79),\n",
       " ('ian@caret.cam.ac.uk', 79),\n",
       " ('dlhaines@umich.edu', 72),\n",
       " ('david.horwitz@uct.ac.za', 67),\n",
       " ('wagnermr@iupui.edu', 43),\n",
       " ('sgithens@caret.cam.ac.uk', 43),\n",
       " ('ajpoland@iupui.edu', 41),\n",
       " ('gjthomas@iupui.edu', 40),\n",
       " ('stephen.marquard@uct.ac.za', 29),\n",
       " ('josrodri@iupui.edu', 28),\n",
       " ('nuno@ufp.pt', 28),\n",
       " ('arwhyte@umich.edu', 27),\n",
       " ('gopal.ramasammycook@gmail.com', 25),\n",
       " ('gsilver@umich.edu', 24),\n",
       " ('bkirschn@umich.edu', 24),\n",
       " ('ray@media.berkeley.edu', 21),\n",
       " ('louis@media.berkeley.edu', 20),\n",
       " ('csev@umich.edu', 19),\n",
       " ('antranig@caret.cam.ac.uk', 18),\n",
       " ('stuart.freeman@et.gatech.edu', 17),\n",
       " ('ostermmg@whitman.edu', 17),\n",
       " ('a.fish@lancaster.ac.uk', 14),\n",
       " ('zach.thomas@txstate.edu', 14),\n",
       " ('kimsooil@bu.edu', 14),\n",
       " ('lance@indiana.edu', 8),\n",
       " ('ktsao@stanford.edu', 8),\n",
       " ('john.ellis@rsmart.com', 8),\n",
       " ('ggolden@umich.edu', 8),\n",
       " ('hu2@iupui.edu', 7),\n",
       " ('mbreuker@loi.nl', 7),\n",
       " ('tnguyen@iupui.edu', 6),\n",
       " ('knoop@umich.edu', 5),\n",
       " ('ssmail@indiana.edu', 5),\n",
       " ('jzaremba@unicon.net', 5),\n",
       " ('gbhatnag@umich.edu', 3),\n",
       " ('jleasia@umich.edu', 2),\n",
       " ('bahollad@indiana.edu', 2),\n",
       " ('jlrenfro@ucdavis.edu', 1),\n",
       " ('thoppaymallika@fhda.edu', 1)]"
      ]
     },
     "execution_count": 10,
     "metadata": {},
     "output_type": "execute_result"
    }
   ],
   "source": [
    "fhand = open(\"mbox.txt\",\"r\")\n",
    "emails = dict()\n",
    "for i in fhand:\n",
    "    if i.startswith(\"From:\") or i.startswith(\"To:\"):\n",
    "        x = i.split()\n",
    "        y = x[1]\n",
    "        \n",
    "        if y not in emails:\n",
    "            emails[y]=1\n",
    "        else:\n",
    "            emails[y]=emails[y]+1\n",
    "            \n",
    "        def sort(b):\n",
    "            return b[1]\n",
    "        mails = sorted(emails.items(), key=sort, reverse=True)\n",
    "mails"
   ]
  },
  {
   "cell_type": "code",
   "execution_count": null,
   "metadata": {},
   "outputs": [],
   "source": []
  }
 ],
 "metadata": {
  "kernelspec": {
   "display_name": "Python 3",
   "language": "python",
   "name": "python3"
  },
  "language_info": {
   "codemirror_mode": {
    "name": "ipython",
    "version": 3
   },
   "file_extension": ".py",
   "mimetype": "text/x-python",
   "name": "python",
   "nbconvert_exporter": "python",
   "pygments_lexer": "ipython3",
   "version": "3.7.3"
  }
 },
 "nbformat": 4,
 "nbformat_minor": 2
}
