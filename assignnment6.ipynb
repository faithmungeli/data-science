{
 "cells": [
  {
   "cell_type": "code",
   "execution_count": 25,
   "metadata": {},
   "outputs": [
    {
     "name": "stdout",
     "output_type": "stream",
     "text": [
      "Thu is the most frequent day that people sent mails, 352 times\n"
     ]
    }
   ],
   "source": [
    "hfile = open(\"mbox.txt\",\"r\")\n",
    "days = list()\n",
    "count = 0\n",
    "for i in hfile:\n",
    "    if i.startswith(\"From \"):\n",
    "        x = i.split()\n",
    "        y = x[2]\n",
    "        days.append(y)\n",
    "\n",
    "for n in days:\n",
    "    x = days.count(n)\n",
    "    if x > count:\n",
    "        y = n\n",
    "        count = x\n",
    "print(y,\"is the most frequent day that people sent mails,\",count,\"times\")"
   ]
  },
  {
   "cell_type": "code",
   "execution_count": 36,
   "metadata": {},
   "outputs": [
    {
     "name": "stdout",
     "output_type": "stream",
     "text": [
      "29 is the most frequent date that people sent mails, 140 times\n"
     ]
    }
   ],
   "source": [
    "hfile = open(\"mbox.txt\",\"r\")\n",
    "dates = list()\n",
    "count = 0\n",
    "for i in hfile:\n",
    "    if i.startswith(\"From \"):\n",
    "        x = i.split()\n",
    "        y = x[4]\n",
    "        dates.append(y)\n",
    "\n",
    "for n in dates:\n",
    "    x = dates.count(n)\n",
    "    if x > count:\n",
    "        y = n\n",
    "        count = x\n",
    "print(y,\"is the most frequent date that people sent mails,\",count,\"times\")\n"
   ]
  },
  {
   "cell_type": "code",
   "execution_count": null,
   "metadata": {},
   "outputs": [],
   "source": []
  },
  {
   "cell_type": "code",
   "execution_count": null,
   "metadata": {},
   "outputs": [],
   "source": []
  }
 ],
 "metadata": {
  "kernelspec": {
   "display_name": "Python 3",
   "language": "python",
   "name": "python3"
  },
  "language_info": {
   "codemirror_mode": {
    "name": "ipython",
    "version": 3
   },
   "file_extension": ".py",
   "mimetype": "text/x-python",
   "name": "python",
   "nbconvert_exporter": "python",
   "pygments_lexer": "ipython3",
   "version": "3.7.3"
  }
 },
 "nbformat": 4,
 "nbformat_minor": 2
}
