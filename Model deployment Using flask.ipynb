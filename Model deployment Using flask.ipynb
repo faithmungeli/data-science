{
 "cells": [
  {
   "cell_type": "code",
   "execution_count": 3,
   "metadata": {},
   "outputs": [
    {
     "name": "stdout",
     "output_type": "stream",
     "text": [
      " * Serving Flask app \"__main__\" (lazy loading)\n",
      " * Environment: production\n",
      "   WARNING: Do not use the development server in a production environment.\n",
      "   Use a production WSGI server instead.\n",
      " * Debug mode: off\n"
     ]
    },
    {
     "name": "stderr",
     "output_type": "stream",
     "text": [
      " * Running on http://127.0.0.1:7000/ (Press CTRL+C to quit)\n",
      "127.0.0.1 - - [10/Apr/2019 18:59:44] \"GET / HTTP/1.1\" 404 -\n",
      "127.0.0.1 - - [10/Apr/2019 18:59:45] \"GET /favicon.ico HTTP/1.1\" 404 -\n",
      "127.0.0.1 - - [10/Apr/2019 19:00:14] \"GET /Hello%20World HTTP/1.1\" 404 -\n",
      "127.0.0.1 - - [10/Apr/2019 19:01:51] \"GET /hello_world HTTP/1.1\" 200 -\n"
     ]
    }
   ],
   "source": [
    "#from flask import Flask\n",
    "app=Flask(__name__)\n",
    "@app.route('/hello_world', methods=['GET','POST'])\n",
    "def add():\n",
    "    return \"Hello World!\"\n",
    "if __name__=='__main__':\n",
    "    app.run(port=7000)"
   ]
  },
  {
   "cell_type": "code",
   "execution_count": null,
   "metadata": {},
   "outputs": [
    {
     "name": "stdout",
     "output_type": "stream",
     "text": [
      " * Serving Flask app \"__main__\" (lazy loading)\n",
      " * Environment: production\n",
      "   WARNING: Do not use the development server in a production environment.\n",
      "   Use a production WSGI server instead.\n",
      " * Debug mode: off\n"
     ]
    },
    {
     "name": "stderr",
     "output_type": "stream",
     "text": [
      " * Running on http://127.0.0.1:7000/ (Press CTRL+C to quit)\n"
     ]
    }
   ],
   "source": [
    "from flask import Flask, request\n",
    "app=Flask(__name__)\n",
    "@app.route('/add', methods=['GET','POST'])\n",
    "def add():\n",
    "    a=request.form[\"a\"]\n",
    "    b=request.form[\"b\"]\n",
    "    c=request.form[\"c\"]\n",
    "    return str( int(a)+int (b)+ int(c))\n",
    "if __name__=='__main__':\n",
    "            app.run(port=7000)"
   ]
  },
  {
   "cell_type": "code",
   "execution_count": null,
   "metadata": {},
   "outputs": [],
   "source": []
  }
 ],
 "metadata": {
  "kernelspec": {
   "display_name": "Python 3",
   "language": "python",
   "name": "python3"
  },
  "language_info": {
   "codemirror_mode": {
    "name": "ipython",
    "version": 3
   },
   "file_extension": ".py",
   "mimetype": "text/x-python",
   "name": "python",
   "nbconvert_exporter": "python",
   "pygments_lexer": "ipython3",
   "version": "3.7.1"
  }
 },
 "nbformat": 4,
 "nbformat_minor": 2
}
