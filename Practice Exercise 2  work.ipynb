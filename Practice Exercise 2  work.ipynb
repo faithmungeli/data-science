{
 "cells": [
  {
   "cell_type": "markdown",
   "metadata": {},
   "source": [
    "# Question 1"
   ]
  },
  {
   "cell_type": "code",
   "execution_count": 1,
   "metadata": {},
   "outputs": [
    {
     "data": {
      "text/plain": [
       "20"
      ]
     },
     "execution_count": 1,
     "metadata": {},
     "output_type": "execute_result"
    }
   ],
   "source": [
    "def add(x,y):\n",
    "    \n",
    "    return x + y\n",
    "add(8,12)"
   ]
  },
  {
   "cell_type": "code",
   "execution_count": 2,
   "metadata": {},
   "outputs": [
    {
     "name": "stdout",
     "output_type": "stream",
     "text": [
      "Enter  num1: 45\n",
      "Enter num2: 50\n"
     ]
    },
    {
     "data": {
      "text/plain": [
       "95.0"
      ]
     },
     "execution_count": 2,
     "metadata": {},
     "output_type": "execute_result"
    }
   ],
   "source": [
    "def addnum():\n",
    "    x = float(input(\"Enter  num1: \"))\n",
    "    y = float(input(\"Enter num2: \"))\n",
    "    return x + y\n",
    "addnum()"
   ]
  },
  {
   "cell_type": "markdown",
   "metadata": {},
   "source": [
    "# Question 2"
   ]
  },
  {
   "cell_type": "code",
   "execution_count": 5,
   "metadata": {},
   "outputs": [
    {
     "name": "stdout",
     "output_type": "stream",
     "text": [
      "Enter your string: 56\n"
     ]
    },
    {
     "data": {
      "text/plain": [
       "'56'"
      ]
     },
     "execution_count": 5,
     "metadata": {},
     "output_type": "execute_result"
    }
   ],
   "source": [
    "def convert():\n",
    "    x = int(input(\"Enter your string: \"))\n",
    "    return str(x)\n",
    "convert()"
   ]
  },
  {
   "cell_type": "markdown",
   "metadata": {},
   "source": [
    "# Question 3"
   ]
  },
  {
   "cell_type": "code",
   "execution_count": 6,
   "metadata": {},
   "outputs": [
    {
     "name": "stdout",
     "output_type": "stream",
     "text": [
      "Enter  num1: 4\n",
      "Enter num2: 5\n"
     ]
    },
    {
     "data": {
      "text/plain": [
       "9"
      ]
     },
     "execution_count": 6,
     "metadata": {},
     "output_type": "execute_result"
    }
   ],
   "source": [
    "def stradd():\n",
    "    x= input(\"Enter  num1: \")\n",
    "    y= input(\"Enter num2: \")\n",
    "    return int(x) + int(y)\n",
    "stradd()"
   ]
  },
  {
   "cell_type": "markdown",
   "metadata": {},
   "source": [
    "# Question 4"
   ]
  },
  {
   "cell_type": "code",
   "execution_count": 7,
   "metadata": {},
   "outputs": [
    {
     "name": "stdout",
     "output_type": "stream",
     "text": [
      "Enter  string1: 456\n",
      "Enter  string2: 120\n"
     ]
    },
    {
     "data": {
      "text/plain": [
       "'456 120'"
      ]
     },
     "execution_count": 7,
     "metadata": {},
     "output_type": "execute_result"
    }
   ],
   "source": [
    "def strings():\n",
    "    x = input(\"Enter  string1: \")\n",
    "    y= input(\"Enter  string2: \")\n",
    "    return x + \" \" + y\n",
    "strings()"
   ]
  },
  {
   "cell_type": "markdown",
   "metadata": {},
   "source": [
    "# Question 5"
   ]
  },
  {
   "cell_type": "code",
   "execution_count": 8,
   "metadata": {},
   "outputs": [
    {
     "name": "stdout",
     "output_type": "stream",
     "text": [
      "Enter  num: 45\n",
      " odd num\n"
     ]
    }
   ],
   "source": [
    "def evenodd():\n",
    "    a = int(input(\"Enter  num: \"))\n",
    "    if a%2 == 0:\n",
    "        print(\" even num\")\n",
    "    else:\n",
    "        print(\" odd num\")\n",
    "evenodd()"
   ]
  },
  {
   "cell_type": "markdown",
   "metadata": {},
   "source": [
    "# Question 6"
   ]
  },
  {
   "cell_type": "code",
   "execution_count": 11,
   "metadata": {},
   "outputs": [
    {
     "name": "stdout",
     "output_type": "stream",
     "text": [
      "Enter first integer: 12\n",
      "Enter second integer: 14\n",
      "14  is largest than  12\n"
     ]
    }
   ],
   "source": [
    "def largest():\n",
    "    x = int(input(\"Enter first integer: \"))\n",
    "    y = int(input(\"Enter second integer: \"))\n",
    "    if x > y:\n",
    "        print(x, \" is largest than \", y)\n",
    "    else:\n",
    "        print(y, \" is largest than \", x)\n",
    "largest()"
   ]
  },
  {
   "cell_type": "markdown",
   "metadata": {},
   "source": [
    "# Question 7"
   ]
  },
  {
   "cell_type": "code",
   "execution_count": 13,
   "metadata": {},
   "outputs": [
    {
     "name": "stdout",
     "output_type": "stream",
     "text": [
      "Enter  number1: 4\n",
      "Enter  number2: 5\n",
      "Enter  number3: 6\n",
      "4  smallest number.\n"
     ]
    }
   ],
   "source": [
    "def smallest():\n",
    "    x = int(input(\"Enter  number1: \"))\n",
    "    y = int(input(\"Enter  number2: \"))\n",
    "    z = int(input(\"Enter  number3: \"))\n",
    "    if x < y and x < z:\n",
    "        print(x, ' smallest number.')\n",
    "    elif y < x and y < z:\n",
    "        print(y, ' smallest number.')\n",
    "    elif z < x and z < y:\n",
    "        print(z,\"smallest number .\")\n",
    "smallest()"
   ]
  },
  {
   "cell_type": "markdown",
   "metadata": {},
   "source": [
    "# Question 8"
   ]
  },
  {
   "cell_type": "code",
   "execution_count": 14,
   "metadata": {},
   "outputs": [
    {
     "name": "stdout",
     "output_type": "stream",
     "text": [
      "Enter the score: 45\n",
      "Grade: D\n"
     ]
    }
   ],
   "source": [
    "def Grade():\n",
    "    score = float(input(\"Enter the score: \"))\n",
    "    if score < 40:\n",
    "        print(\"Grade: F\")\n",
    "    elif score < 50:\n",
    "        print(\"Grade: D\")\n",
    "    elif score < 60:\n",
    "        print(\"Grade: C\")\n",
    "    elif score < 70:\n",
    "        print(\"Grade: B\")\n",
    "    elif score >= 70:\n",
    "        print(\"Grade: A\")\n",
    "Grade()"
   ]
  },
  {
   "cell_type": "markdown",
   "metadata": {},
   "source": [
    "# Question 9"
   ]
  },
  {
   "cell_type": "code",
   "execution_count": 16,
   "metadata": {},
   "outputs": [
    {
     "name": "stdout",
     "output_type": "stream",
     "text": [
      "Enter the length :10\n",
      "Enter the width : 5\n"
     ]
    },
    {
     "data": {
      "text/plain": [
       "25.0"
      ]
     },
     "execution_count": 16,
     "metadata": {},
     "output_type": "execute_result"
    }
   ],
   "source": [
    "def Areatriangle():\n",
    "    length = float(input(\"Enter the length :\"))\n",
    "    width = float(input(\"Enter the width : \"))\n",
    "    return 0.5*length*width\n",
    "Areatriangle()"
   ]
  },
  {
   "cell_type": "code",
   "execution_count": null,
   "metadata": {},
   "outputs": [],
   "source": []
  }
 ],
 "metadata": {
  "kernelspec": {
   "display_name": "Python 3",
   "language": "python",
   "name": "python3"
  },
  "language_info": {
   "codemirror_mode": {
    "name": "ipython",
    "version": 3
   },
   "file_extension": ".py",
   "mimetype": "text/x-python",
   "name": "python",
   "nbconvert_exporter": "python",
   "pygments_lexer": "ipython3",
   "version": "3.7.3"
  }
 },
 "nbformat": 4,
 "nbformat_minor": 2
}
