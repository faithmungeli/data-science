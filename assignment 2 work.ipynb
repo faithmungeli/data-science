{
 "cells": [
  {
   "cell_type": "markdown",
   "metadata": {},
   "source": [
    "ASSIGNMENT 2.\n",
    "Rewrite your pay program using try and except so that your program handles non-numeric input\n",
    "gracefully.\n",
    "Enter Hours: 20\n",
    "Enter Rate: nine\n",
    "Error, please enter numeric input\n",
    "Enter Hours: forty\n",
    "Error, please enter numeric input"
   ]
  },
  {
   "cell_type": "code",
   "execution_count": 2,
   "metadata": {},
   "outputs": [
    {
     "name": "stdout",
     "output_type": "stream",
     "text": [
      "Enter hours:20\n",
      "Enter rate:forty\n",
      "error, please enter numeric input\n"
     ]
    }
   ],
   "source": [
    "try:\n",
    "    hours = input(\"Enter hours:\")\n",
    "    rate = input(\"Enter rate:\")\n",
    "    hours = float(hours)\n",
    "    rate = float(rate)\n",
    "    pay = hours * rate\n",
    "    print(pay)\n",
    "except:\n",
    "    print(\"error, please enter numeric input\")"
   ]
  },
  {
   "cell_type": "code",
   "execution_count": null,
   "metadata": {},
   "outputs": [],
   "source": []
  },
  {
   "cell_type": "code",
   "execution_count": null,
   "metadata": {},
   "outputs": [],
   "source": []
  }
 ],
 "metadata": {
  "kernelspec": {
   "display_name": "Python 3",
   "language": "python",
   "name": "python3"
  },
  "language_info": {
   "codemirror_mode": {
    "name": "ipython",
    "version": 3
   },
   "file_extension": ".py",
   "mimetype": "text/x-python",
   "name": "python",
   "nbconvert_exporter": "python",
   "pygments_lexer": "ipython3",
   "version": "3.7.3"
  }
 },
 "nbformat": 4,
 "nbformat_minor": 2
}
