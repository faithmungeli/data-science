{
 "cells": [
  {
   "cell_type": "markdown",
   "metadata": {},
   "source": [
    "1. Determine if  22 exist in [3,41,12,9,74,15]. Otherwise print \"does not exist\""
   ]
  },
  {
   "cell_type": "code",
   "execution_count": 17,
   "metadata": {},
   "outputs": [
    {
     "name": "stdout",
     "output_type": "stream",
     "text": [
      "does not exist\n"
     ]
    }
   ],
   "source": [
    "numbers = [3,41,12,9,74,15]\n",
    "count = 0\n",
    "for number in numbers:\n",
    "    if  number == 22:\n",
    "        secnum= number\n",
    "        count = count + 1\n",
    "        val = (\"number is here\")\n",
    "    else:\n",
    "        val = (\"does not exist\")\n",
    "if count >= 1:\n",
    "    print (count,\"times\")\n",
    "else:\n",
    "    print (val)"
   ]
  },
  {
   "cell_type": "markdown",
   "metadata": {},
   "source": [
    "2: Determine how many times did 22 exist in [3,41,12,9,74,15]"
   ]
  },
  {
   "cell_type": "code",
   "execution_count": 22,
   "metadata": {},
   "outputs": [
    {
     "name": "stdout",
     "output_type": "stream",
     "text": [
      "5 times\n"
     ]
    }
   ],
   "source": [
    "numbers = [22,22,22,22,22,3,41,12,9,74,15]\n",
    "count = 0\n",
    "for number in numbers:\n",
    "    if  number == 22:\n",
    "        secnum = number\n",
    "        count = count + 1\n",
    "        val = (\"number is here\")\n",
    "    else:\n",
    "           val = (\"does not exist\")\n",
    "if count >= 1:\n",
    "    print (count,\"times\")\n",
    "else:\n",
    "    print (val)\n",
    "\n"
   ]
  },
  {
   "cell_type": "code",
   "execution_count": null,
   "metadata": {},
   "outputs": [],
   "source": []
  },
  {
   "cell_type": "code",
   "execution_count": null,
   "metadata": {},
   "outputs": [],
   "source": []
  }
 ],
 "metadata": {
  "kernelspec": {
   "display_name": "Python 3",
   "language": "python",
   "name": "python3"
  },
  "language_info": {
   "codemirror_mode": {
    "name": "ipython",
    "version": 3
   },
   "file_extension": ".py",
   "mimetype": "text/x-python",
   "name": "python",
   "nbconvert_exporter": "python",
   "pygments_lexer": "ipython3",
   "version": "3.7.3"
  }
 },
 "nbformat": 4,
 "nbformat_minor": 2
}
