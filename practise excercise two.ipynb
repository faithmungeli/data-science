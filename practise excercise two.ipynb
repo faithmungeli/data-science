{
 "cells": [
  {
   "cell_type": "markdown",
   "metadata": {},
   "source": [
    "# question 1"
   ]
  },
  {
   "cell_type": "code",
   "execution_count": 1,
   "metadata": {},
   "outputs": [
    {
     "data": {
      "text/plain": [
       "40"
      ]
     },
     "execution_count": 1,
     "metadata": {},
     "output_type": "execute_result"
    }
   ],
   "source": [
    "def total_sum(a,b):\n",
    "    return(a+b)#computes the sum of two numbers\n",
    "total_sum(20,20)"
   ]
  },
  {
   "cell_type": "code",
   "execution_count": 2,
   "metadata": {},
   "outputs": [],
   "source": [
    "sum=total_sum(200,300)"
   ]
  },
  {
   "cell_type": "code",
   "execution_count": 3,
   "metadata": {},
   "outputs": [
    {
     "data": {
      "text/plain": [
       "500"
      ]
     },
     "execution_count": 3,
     "metadata": {},
     "output_type": "execute_result"
    }
   ],
   "source": [
    "sum"
   ]
  },
  {
   "cell_type": "markdown",
   "metadata": {},
   "source": [
    "# question 2."
   ]
  },
  {
   "cell_type": "code",
   "execution_count": 4,
   "metadata": {},
   "outputs": [
    {
     "name": "stdout",
     "output_type": "stream",
     "text": [
      "1\n"
     ]
    }
   ],
   "source": [
    "def convert(n):#it converts an integer into a string and print it in console.\n",
    "    n=str(n)\n",
    "    return n\n",
    "print(convert(1))"
   ]
  },
  {
   "cell_type": "code",
   "execution_count": 5,
   "metadata": {},
   "outputs": [
    {
     "data": {
      "text/plain": [
       "str"
      ]
     },
     "execution_count": 5,
     "metadata": {},
     "output_type": "execute_result"
    }
   ],
   "source": [
    "type(convert(2))# coverts the integer into a string"
   ]
  },
  {
   "cell_type": "markdown",
   "metadata": {},
   "source": [
    "# question 3"
   ]
  },
  {
   "cell_type": "code",
   "execution_count": 6,
   "metadata": {},
   "outputs": [
    {
     "data": {
      "text/plain": [
       "30"
      ]
     },
     "execution_count": 6,
     "metadata": {},
     "output_type": "execute_result"
    }
   ],
   "source": [
    "def receive(n,m):#it receives two integral numbers in string form and \n",
    "    n=int(n)\n",
    "    m=int(m)\n",
    "    return n+m #compute their sum \n",
    "receive('10','20')# print it in console"
   ]
  },
  {
   "cell_type": "markdown",
   "metadata": {},
   "source": [
    "# question 4"
   ]
  },
  {
   "cell_type": "code",
   "execution_count": 7,
   "metadata": {},
   "outputs": [
    {
     "data": {
      "text/plain": [
       "'how are you :today'"
      ]
     },
     "execution_count": 7,
     "metadata": {},
     "output_type": "execute_result"
    }
   ],
   "source": [
    "def strings(x,y):\n",
    "    x=str(x)\n",
    "    y=str(y)\n",
    "    return x+y\n",
    "strings('how are you :',  'today')\n",
    "\n",
    "    "
   ]
  },
  {
   "cell_type": "markdown",
   "metadata": {},
   "source": [
    "# question 5"
   ]
  },
  {
   "cell_type": "code",
   "execution_count": 8,
   "metadata": {},
   "outputs": [
    {
     "name": "stdout",
     "output_type": "stream",
     "text": [
      "even\n",
      "None\n"
     ]
    }
   ],
   "source": [
    "def evenodd(num):\n",
    "    num=int(num)\n",
    "    if num%2==0:#use of order module evaluation modulus\n",
    "        print('even')\n",
    "    else:\n",
    "        print('odd')\n",
    "print(evenodd(10))\n",
    "    "
   ]
  },
  {
   "cell_type": "code",
   "execution_count": 16,
   "metadata": {},
   "outputs": [
    {
     "name": "stdout",
     "output_type": "stream",
     "text": [
      "enter the numberfghjkl;\n",
      "you havent enetred a numerical value\n"
     ]
    }
   ],
   "source": [
    "try:\n",
    "    f=int(input('enter the number'))\n",
    "    def evenodd(f):\n",
    "        if f%2==0:\n",
    "            print('it is even')\n",
    "        else:\n",
    "             print('it is odd')\n",
    "    evenodd(f)\n",
    "except:\n",
    "    print('you havent enetred a numerical value')\n",
    "\n",
    "    "
   ]
  },
  {
   "cell_type": "markdown",
   "metadata": {},
   "source": [
    "question 6"
   ]
  },
  {
   "cell_type": "code",
   "execution_count": 1,
   "metadata": {},
   "outputs": [
    {
     "name": "stdout",
     "output_type": "stream",
     "text": [
      "enter integer one :10\n",
      "enter integer two :20\n",
      "20 is greater 10\n"
     ]
    }
   ],
   "source": [
    "a=int(input('enter integer one :' ))\n",
    "b=int(input('enter integer two :'))\n",
    "def two_integers(a,b):\n",
    "    if a>b:\n",
    "        print(a,'is greater',b)\n",
    "    elif a<b:\n",
    "        print(b,'is greater',a)\n",
    "two_integers(a,b)\n",
    "    "
   ]
  },
  {
   "cell_type": "markdown",
   "metadata": {},
   "source": [
    "question 7"
   ]
  },
  {
   "cell_type": "code",
   "execution_count": 10,
   "metadata": {},
   "outputs": [
    {
     "data": {
      "text/plain": [
       "10"
      ]
     },
     "execution_count": 10,
     "metadata": {},
     "output_type": "execute_result"
    }
   ],
   "source": [
    "def largest(a,b,c):\n",
    "    if (a<b) and (a<c):\n",
    "        smallest=a\n",
    "    elif (b<a) and (b<c):\n",
    "        smallest=b\n",
    "    elif (c<a) and (c<b):\n",
    "        smallest=c\n",
    "        return smallest\n",
    "largest=largest(45,56,10)\n",
    "largest"
   ]
  },
  {
   "cell_type": "markdown",
   "metadata": {},
   "source": [
    "question 8"
   ]
  },
  {
   "cell_type": "code",
   "execution_count": 22,
   "metadata": {},
   "outputs": [
    {
     "name": "stdout",
     "output_type": "stream",
     "text": [
      "enter the score :40\n",
      "d\n",
      "c\n",
      "b\n"
     ]
    }
   ],
   "source": [
    "grade=float(input('enter the score :'))\n",
    "def Grade_score(grade):\n",
    "    if grade<40:\n",
    "        print('f')\n",
    "    if grade<50:\n",
    "        print('d')\n",
    "    if grade<60:\n",
    "        print('c')\n",
    "    if grade<70:\n",
    "        print('b')\n",
    "    else:\n",
    "        print('a')\n",
    "Grade_score(grade)           \n",
    "    \n"
   ]
  },
  {
   "cell_type": "markdown",
   "metadata": {},
   "source": [
    "question 9"
   ]
  },
  {
   "cell_type": "code",
   "execution_count": null,
   "metadata": {},
   "outputs": [],
   "source": [
    "a=int(input('enter value one :'))\n",
    "b=int(input('enter value two :'))\n",
    "def Areaoftriangle(a,b):\n",
    "    return a/2*b\n",
    "Areaoftriangle(a,b)"
   ]
  },
  {
   "cell_type": "code",
   "execution_count": null,
   "metadata": {},
   "outputs": [],
   "source": []
  }
 ],
 "metadata": {
  "kernelspec": {
   "display_name": "Python 3",
   "language": "python",
   "name": "python3"
  },
  "language_info": {
   "codemirror_mode": {
    "name": "ipython",
    "version": 3
   },
   "file_extension": ".py",
   "mimetype": "text/x-python",
   "name": "python",
   "nbconvert_exporter": "python",
   "pygments_lexer": "ipython3",
   "version": "3.7.3"
  }
 },
 "nbformat": 4,
 "nbformat_minor": 2
}
