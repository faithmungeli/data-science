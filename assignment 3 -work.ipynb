{
 "cells": [
  {
   "cell_type": "markdown",
   "metadata": {},
   "source": [
    "Rewrite your pay computation to give the employees 1.5 times the hourly rate for hours worked above 40 hours. \n",
    "Enter Hours : 45 \n",
    "Enter rate : 10 \n",
    "Pay : 475.0"
   ]
  },
  {
   "cell_type": "code",
   "execution_count": 1,
   "metadata": {},
   "outputs": [
    {
     "name": "stdout",
     "output_type": "stream",
     "text": [
      "Enter hours: 45\n",
      "Enter rate: 10\n",
      "your salary is Ksh. 475.0\n"
     ]
    }
   ],
   "source": [
    "try:\n",
    "    hour=float(input(\"Enter hours: \"))\n",
    "    rate=float(input(\"Enter rate: \"))\n",
    "    \n",
    "    if hour > 40:\n",
    "        rem = hour-40\n",
    "        pay = (rate*40)+(rate*1.5*rem)\n",
    "        print (\"your salary is Ksh.\",pay)\n",
    "    else:\n",
    "        pay = rate*hour\n",
    "        print (\"your salary is Ksh.\",pay)\n",
    "except:\n",
    "    print(\"Error.please enter numeric input!\")"
   ]
  },
  {
   "cell_type": "code",
   "execution_count": null,
   "metadata": {},
   "outputs": [],
   "source": []
  }
 ],
 "metadata": {
  "kernelspec": {
   "display_name": "Python 3",
   "language": "python",
   "name": "python3"
  },
  "language_info": {
   "codemirror_mode": {
    "name": "ipython",
    "version": 3
   },
   "file_extension": ".py",
   "mimetype": "text/x-python",
   "name": "python",
   "nbconvert_exporter": "python",
   "pygments_lexer": "ipython3",
   "version": "3.7.3"
  }
 },
 "nbformat": 4,
 "nbformat_minor": 2
}
