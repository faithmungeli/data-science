{
 "cells": [
  {
   "cell_type": "markdown",
   "metadata": {},
   "source": [
    "# Assignment two"
   ]
  },
  {
   "cell_type": "markdown",
   "metadata": {},
   "source": [
    "excercise question 1."
   ]
  },
  {
   "cell_type": "code",
   "execution_count": 2,
   "metadata": {},
   "outputs": [
    {
     "name": "stdout",
     "output_type": "stream",
     "text": [
      "enter hours: 45\n",
      "enter rate: 10\n",
      "475.0\n"
     ]
    }
   ],
   "source": [
    "hours=float(input('enter hours: '))\n",
    "rate=float(input('enter rate: '))\n",
    "if hours>40:\n",
    "    extratime=float(hours)-40\n",
    "else:\n",
    "    extratime=0\n",
    "extrapay=0.5*float(rate)*extratime\n",
    "pay=float(hours)*float(rate)+extrapay\n",
    "print(pay)"
   ]
  },
  {
   "cell_type": "markdown",
   "metadata": {},
   "source": [
    "excercise question 2"
   ]
  },
  {
   "cell_type": "code",
   "execution_count": 36,
   "metadata": {},
   "outputs": [
    {
     "name": "stdout",
     "output_type": "stream",
     "text": [
      "Enter Hours: kl\n",
      "error_msg_numeric\n",
      "Enter Hours:jk\n",
      "error_msg_numeric\n",
      "360.0\n"
     ]
    }
   ],
   "source": [
    "\n",
    "try:\n",
    "    hours=float(input('Enter Hours: '))\n",
    "    rate=float(input('enter rate: '))\n",
    "    hours>=0\n",
    "    \n",
    "except:\n",
    "    print('error_msg_numeric')\n",
    "try:  \n",
    "    hours=float(input('Enter Hours:'))\n",
    "except:\n",
    "    print('error_msg_numeric')\n",
    "try:\n",
    "    rate>=0\n",
    "except:\n",
    "    print('error_msg_numeric')\n",
    "try:\n",
    "    hours=float(hours)\n",
    "    rate=float(rate)\n",
    "    if hours >40:\n",
    "        extra_time=hours-40\n",
    "        \n",
    "    else:\n",
    "        extra_time=0\n",
    "        extra_pay=1.5*rate*extra_time\n",
    "        pay=hours*rate+extra_pay\n",
    "        print (pay)\n",
    "except:\n",
    "        print('error,enter_msg_numeric')\n",
    "  "
   ]
  },
  {
   "cell_type": "code",
   "execution_count": null,
   "metadata": {},
   "outputs": [],
   "source": []
  },
  {
   "cell_type": "code",
   "execution_count": null,
   "metadata": {},
   "outputs": [],
   "source": []
  }
 ],
 "metadata": {
  "kernelspec": {
   "display_name": "Python 3",
   "language": "python",
   "name": "python3"
  },
  "language_info": {
   "codemirror_mode": {
    "name": "ipython",
    "version": 3
   },
   "file_extension": ".py",
   "mimetype": "text/x-python",
   "name": "python",
   "nbconvert_exporter": "python",
   "pygments_lexer": "ipython3",
   "version": "3.7.3"
  }
 },
 "nbformat": 4,
 "nbformat_minor": 2
}
