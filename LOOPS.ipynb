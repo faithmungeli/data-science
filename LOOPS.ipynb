{
 "cells": [
  {
   "cell_type": "markdown",
   "metadata": {},
   "source": [
    "LOOPS ARE ITERATION/REPEATED STEPS THAT CHANGE EACHTYM THROUGH LOOP & GO TROUGH A SEQUENCE\n",
    "1.WHILE LOOPS ARE INDEFINITE LOOPS\n"
   ]
  },
  {
   "cell_type": "code",
   "execution_count": 2,
   "metadata": {},
   "outputs": [
    {
     "name": "stdout",
     "output_type": "stream",
     "text": [
      "1\n",
      "2\n",
      "3\n",
      "4\n",
      "5\n"
     ]
    }
   ],
   "source": [
    "print('1')\n",
    "print('2')\n",
    "print('3')\n",
    "print('4')\n",
    "print('5')\n"
   ]
  },
  {
   "cell_type": "code",
   "execution_count": 3,
   "metadata": {},
   "outputs": [
    {
     "name": "stdout",
     "output_type": "stream",
     "text": [
      "5\n",
      "4\n",
      "3\n",
      "2\n",
      "1\n",
      "blastoff\n",
      "n\n"
     ]
    }
   ],
   "source": [
    "n=5\n",
    "while n>0:\n",
    "    print(n)\n",
    "    n=n-1\n",
    "print('blastoff')\n",
    "print('n')"
   ]
  },
  {
   "cell_type": "markdown",
   "metadata": {},
   "source": [
    "infinite loops"
   ]
  },
  {
   "cell_type": "code",
   "execution_count": 4,
   "metadata": {},
   "outputs": [
    {
     "name": "stdout",
     "output_type": "stream",
     "text": [
      "dry off\n"
     ]
    }
   ],
   "source": [
    "n=5\n",
    "while n>10:\n",
    "    print('leather')\n",
    "    print('rinse')\n",
    "print('dry off')"
   ]
  },
  {
   "cell_type": "code",
   "execution_count": 5,
   "metadata": {},
   "outputs": [
    {
     "name": "stdout",
     "output_type": "stream",
     "text": [
      "blast\n"
     ]
    }
   ],
   "source": [
    "n=1\n",
    "while n>1:\n",
    "    print('leather')\n",
    "    print('rinse')\n",
    "    n=n+1\n",
    "print('blast')\n",
    "        "
   ]
  },
  {
   "cell_type": "code",
   "execution_count": 6,
   "metadata": {},
   "outputs": [
    {
     "name": "stdout",
     "output_type": "stream",
     "text": [
      "> done\n",
      "blastoff\n"
     ]
    }
   ],
   "source": [
    "while True:\n",
    "    line=input('> ')\n",
    "    if line=='done':\n",
    "        #pass\n",
    "        break\n",
    "    print(line)\n",
    "print('blastoff')"
   ]
  },
  {
   "cell_type": "code",
   "execution_count": null,
   "metadata": {},
   "outputs": [],
   "source": [
    "n=5\n",
    "while True:\n",
    "       if n==0:\n",
    "        print(n)\n",
    "        break\n",
    "        n=n-1\n",
    "        print(n)\n",
    "print('blastoff')\n",
    "    "
   ]
  },
  {
   "cell_type": "code",
   "execution_count": null,
   "metadata": {},
   "outputs": [],
   "source": [
    "while True:\n",
    "    line=input('my name is')\n",
    "     if line[0]=='#':#loops back to start point\n",
    "        continue\n",
    "    if line=='done':#enables you to end the loop\n",
    "        break\n",
    "    print(line)\n",
    "print('done')"
   ]
  },
  {
   "cell_type": "markdown",
   "metadata": {},
   "source": [
    "Definite loops(for loops)\n",
    "the interation variables keep changing in the sequence of the loop"
   ]
  },
  {
   "cell_type": "code",
   "execution_count": null,
   "metadata": {},
   "outputs": [],
   "source": [
    "for i in [5,4,3,2,1]:\n",
    "    print (i)\n",
    "print('blastoff')"
   ]
  },
  {
   "cell_type": "code",
   "execution_count": null,
   "metadata": {},
   "outputs": [],
   "source": [
    "for number in range(1,100+1):\n",
    "    print(number)\n",
    "print('blastoff')\n",
    "       \n"
   ]
  },
  {
   "cell_type": "code",
   "execution_count": null,
   "metadata": {},
   "outputs": [],
   "source": [
    "friends =['fay','lewis','katrina','joshua','oga','beryl','daylan','mary']"
   ]
  },
  {
   "cell_type": "code",
   "execution_count": null,
   "metadata": {},
   "outputs": [],
   "source": [
    "for friends in friends:#use of for loop in a fixed set.\n",
    "    print('hi', friends)#definite loops iterate through the members of a set\n",
    "    #definite loops coz they excute an exact number of times."
   ]
  },
  {
   "cell_type": "code",
   "execution_count": null,
   "metadata": {},
   "outputs": [],
   "source": [
    "numbers=[3,41,12,92,74,150000]\n",
    "for number in numbers:\n",
    "    print(number)\n",
    "    #if number>largest:\n",
    "       # largest=number\n",
    "#print(largest)"
   ]
  },
  {
   "cell_type": "code",
   "execution_count": null,
   "metadata": {},
   "outputs": [],
   "source": [
    "largest=i\n",
    "for i in numbers:\n",
    "    if i>largest:\n",
    "        largest=i\n",
    "print(largest)"
   ]
  },
  {
   "cell_type": "code",
   "execution_count": null,
   "metadata": {},
   "outputs": [],
   "source": [
    "total=0\n",
    "numbers=[3,41,12,9,74,15]\n",
    "for i in numbers:\n",
    "    total=total+i\n",
    "print(total)\n",
    "    "
   ]
  },
  {
   "cell_type": "code",
   "execution_count": null,
   "metadata": {},
   "outputs": [],
   "source": [
    "total=1\n",
    "count=0\n",
    "numbers=[1,2,3,4,5,6,7,8,9]\n",
    "for i in numbers:\n",
    "    count=count+1\n",
    "    total=total+i\n",
    "average=total/count   \n",
    "print(average)\n",
    "    "
   ]
  },
  {
   "cell_type": "code",
   "execution_count": null,
   "metadata": {},
   "outputs": [],
   "source": [
    "print(count)"
   ]
  },
  {
   "cell_type": "code",
   "execution_count": null,
   "metadata": {},
   "outputs": [],
   "source": [
    "numbers=[3,41,12,9,74,15]\n",
    "for i in numbers:\n",
    "    if i>20:\n",
    "        print(i)"
   ]
  },
  {
   "cell_type": "code",
   "execution_count": null,
   "metadata": {},
   "outputs": [],
   "source": [
    "smallest=i #use\n",
    "numbers=[3,41,12,9,74,15]\n",
    "for i in numbers:\n",
    "    if i<smallest:\n",
    "        smallest=i\n",
    "print(smallest)"
   ]
  },
  {
   "cell_type": "code",
   "execution_count": null,
   "metadata": {},
   "outputs": [],
   "source": [
    "numbers=[100,3,41,12,9,74,15]\n",
    "counter=None\n",
    "for number in numbers:\n",
    "    if counter==None:\n",
    "        counter=number\n",
    "    else:\n",
    "        if number<counter:\n",
    "            counter=number\n",
    "print('Smallest value is',counter)\n"
   ]
  },
  {
   "cell_type": "code",
   "execution_count": null,
   "metadata": {},
   "outputs": [],
   "source": [
    "numbers=[100,13,41,12,9,74,15,-1]\n",
    "counter=None\n",
    "for number in numbers:\n",
    "    if counter==None:\n",
    "        counter=number\n",
    "    else:\n",
    "        if number<counter:\n",
    "            counter=number\n",
    "    print('counter variable', counter)\n",
    "print('Smallest value is',counter)\n"
   ]
  },
  {
   "cell_type": "code",
   "execution_count": null,
   "metadata": {},
   "outputs": [],
   "source": [
    "number=int(input('enter number :'))\n",
    "numbers=[100,13,41,12,9,74,15,-1]\n",
    "for number in numbers:\n",
    "    if number==numbers:\n",
    "               print('the number is present')\n",
    "    else:\n",
    "        print('the number is not present')\n",
    "        \n",
    "#print('counter variable', counter)\n",
    "#print('the value is ',counter)\n"
   ]
  },
  {
   "cell_type": "code",
   "execution_count": null,
   "metadata": {},
   "outputs": [],
   "source": [
    "_maximum=i\n",
    "numbers=[3,41,12,92,74,2,150000]\n",
    "for i in numbers:\n",
    "    if i>maximum:\n",
    "        maximum=i\n",
    "print(maximum)"
   ]
  },
  {
   "cell_type": "code",
   "execution_count": null,
   "metadata": {},
   "outputs": [],
   "source": [
    "_min=i\n",
    "numbers=[3,41,12,92,74,2,150000]\n",
    "for i in numbers:\n",
    "    if i<min:\n",
    "        min=i\n",
    "print(min)"
   ]
  },
  {
   "cell_type": "code",
   "execution_count": null,
   "metadata": {},
   "outputs": [],
   "source": []
  }
 ],
 "metadata": {
  "kernelspec": {
   "display_name": "Python 3",
   "language": "python",
   "name": "python3"
  },
  "language_info": {
   "codemirror_mode": {
    "name": "ipython",
    "version": 3
   },
   "file_extension": ".py",
   "mimetype": "text/x-python",
   "name": "python",
   "nbconvert_exporter": "python",
   "pygments_lexer": "ipython3",
   "version": "3.7.3"
  }
 },
 "nbformat": 4,
 "nbformat_minor": 2
}
