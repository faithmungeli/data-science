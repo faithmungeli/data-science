{
 "cells": [
  {
   "cell_type": "code",
   "execution_count": null,
   "metadata": {},
   "outputs": [],
   "source": [
    "#!/usr/bin/env python3\n",
    "# -*- coding: utf-8 -*-\n",
    "\"\"\"\n",
    "Created on Fri Mar 16 21:06:35 2019\n",
    "\n",
    "@author: Isaack\n",
    "\"\"\"\n",
    "\n",
    "import pickle\n",
    "from flask import Flask, request\n",
    "import numpy as np\n",
    "import pandas as pd\n",
    "\n",
    "with open('random_forest.pkl', 'rb') as model_file:\n",
    "    model = pickle.load(model_file)\n",
    "\n",
    "app = Flask(__name__)\n",
    "\n",
    "@app.route('/predict',methods=['POST'])\n",
    "def predict_iris():\n",
    "    \"\"\"Example endpoint returning a prediction of iris\n",
    "    ---\n",
    "    parameters:\n",
    "      - name: s_length\n",
    "        in: query\n",
    "        type: number\n",
    "        required: true\n",
    "      - name: s_width\n",
    "        in: query\n",
    "        type: number\n",
    "        required: true\n",
    "      - name: p_length\n",
    "        in: query\n",
    "        type: number\n",
    "        required: true\n",
    "      - name: p_width\n",
    "        in: query\n",
    "        type: number\n",
    "        required: true\n",
    "    \"\"\"\n",
    "    s_length = request.form[\"s_length\"]\n",
    "    s_width = request.form[\"s_width\"]\n",
    "    p_length = request.form[\"p_length\"]\n",
    "    p_width = request.form[\"p_width\"]\n",
    "    \n",
    "    prediction = model.predict(np.array([[s_length, s_width, p_length, p_width]]))\n",
    "    return str(prediction)\n",
    "\n",
    "if __name__ == '__main__':\n",
    "    app.run(host='0.0.0.0', port=5000)"
   ]
  }
 ],
 "metadata": {
  "kernelspec": {
   "display_name": "Python 3",
   "language": "python",
   "name": "python3"
  },
  "language_info": {
   "codemirror_mode": {
    "name": "ipython",
    "version": 3
   },
   "file_extension": ".py",
   "mimetype": "text/x-python",
   "name": "python",
   "nbconvert_exporter": "python",
   "pygments_lexer": "ipython3",
   "version": "3.7.1"
  }
 },
 "nbformat": 4,
 "nbformat_minor": 2
}
