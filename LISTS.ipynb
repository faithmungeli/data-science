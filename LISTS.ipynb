{
 "cells": [
  {
   "cell_type": "code",
   "execution_count": 26,
   "metadata": {},
   "outputs": [],
   "source": [
    "name_1=['marquard','cwen','cwen','zhen','marquard','zhen','csev','csev','zhen','marquard','zhen','csev','zhen']"
   ]
  },
  {
   "cell_type": "code",
   "execution_count": 15,
   "metadata": {},
   "outputs": [
    {
     "data": {
      "text/plain": [
       "['marquard',\n",
       " 'cwen',\n",
       " 'cwen',\n",
       " 'zhen',\n",
       " 'marquard',\n",
       " 'zhen',\n",
       " 'csev',\n",
       " 'csev',\n",
       " 'zhen',\n",
       " 'marquard',\n",
       " 'zhen',\n",
       " 'csev',\n",
       " 'zhen']"
      ]
     },
     "execution_count": 15,
     "metadata": {},
     "output_type": "execute_result"
    }
   ],
   "source": [
    "name"
   ]
  },
  {
   "cell_type": "code",
   "execution_count": 16,
   "metadata": {},
   "outputs": [
    {
     "data": {
      "text/plain": [
       "5"
      ]
     },
     "execution_count": 16,
     "metadata": {},
     "output_type": "execute_result"
    }
   ],
   "source": [
    "name.count('zhen')"
   ]
  },
  {
   "cell_type": "code",
   "execution_count": 31,
   "metadata": {},
   "outputs": [
    {
     "name": "stdout",
     "output_type": "stream",
     "text": [
      "[3, 2, 5, 3]\n",
      "5 zhen\n"
     ]
    }
   ],
   "source": [
    "a = list()\n",
    "b = (\"marquard\",\"cwen\",\"zhen\",\"csev\")\n",
    "a.append(name_1.count(\"marquard\"))\n",
    "a.append(name_1.count(\"cwen\"))\n",
    "a.append(name_1.count(\"zhen\"))\n",
    "a.append(name_1.count(\"csev\"))\n",
    "print(a)\n",
    "print(max(a),b[a.index(max(a))])\n"
   ]
  },
  {
   "cell_type": "code",
   "execution_count": null,
   "metadata": {},
   "outputs": [],
   "source": []
  }
 ],
 "metadata": {
  "kernelspec": {
   "display_name": "Python 3",
   "language": "python",
   "name": "python3"
  },
  "language_info": {
   "codemirror_mode": {
    "name": "ipython",
    "version": 3
   },
   "file_extension": ".py",
   "mimetype": "text/x-python",
   "name": "python",
   "nbconvert_exporter": "python",
   "pygments_lexer": "ipython3",
   "version": "3.7.3"
  }
 },
 "nbformat": 4,
 "nbformat_minor": 2
}
