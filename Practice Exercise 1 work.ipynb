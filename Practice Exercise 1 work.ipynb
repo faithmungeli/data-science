{
 "cells": [
  {
   "cell_type": "markdown",
   "metadata": {},
   "source": [
    "# Question 1 "
   ]
  },
  {
   "cell_type": "code",
   "execution_count": 1,
   "metadata": {},
   "outputs": [
    {
     "name": "stdout",
     "output_type": "stream",
     "text": [
      "Enter the length: 10\n",
      "Enter the  width: 20\n",
      "a rectangle.\n"
     ]
    }
   ],
   "source": [
    "try:\n",
    "    length = float(input(\"Enter the length: \"))\n",
    "    width = float(input(\"Enter the  width: \"))\n",
    "\n",
    "    if length == width:\n",
    "        print(\"a square.\")\n",
    "    else:\n",
    "        print(\"a rectangle.\")\n",
    "except:\n",
    "    print(\"Enter Numerical values please..\")"
   ]
  },
  {
   "cell_type": "markdown",
   "metadata": {},
   "source": [
    "# Question 2"
   ]
  },
  {
   "cell_type": "code",
   "execution_count": 2,
   "metadata": {},
   "outputs": [
    {
     "name": "stdout",
     "output_type": "stream",
     "text": [
      "Enter value 'a'10\n",
      "Enter value 'b'20\n",
      "20 is greater than 10\n"
     ]
    }
   ],
   "source": [
    "try:\n",
    "    a = int(input(\"Enter value 'a'\"))\n",
    "    b = int(input(\"Enter value 'b'\"))\n",
    "\n",
    "    if a > b:\n",
    "        print(a,\"is greater than\",b)\n",
    "    elif a < b:\n",
    "        print(b,'is greater than',a)\n",
    "    else:\n",
    "        print('a is equal to b')\n",
    "except:\n",
    "    print('Please enter integer values')"
   ]
  },
  {
   "cell_type": "markdown",
   "metadata": {},
   "source": [
    "# Question 3"
   ]
  },
  {
   "cell_type": "code",
   "execution_count": 3,
   "metadata": {},
   "outputs": [
    {
     "name": "stdout",
     "output_type": "stream",
     "text": [
      "Enter  quantity of goods bought: 20\n",
      "total cost is 1800.0 and the Discount is 200.0\n"
     ]
    }
   ],
   "source": [
    "try:\n",
    "    quantity = float(input(\"Enter  quantity of goods bought: \"))\n",
    "    unit = 100\n",
    "    Cost = quantity*unit\n",
    "    Discount = 0\n",
    "    if Cost >1000:\n",
    "        Discount = 10/100*Cost\n",
    "        Total_Cost = Cost - Discount\n",
    "    else:\n",
    "        Total_Cost = Cost\n",
    "    print(\"total cost is\",Total_Cost,\"and the Discount is\",Discount)\n",
    "except:\n",
    "    print(\"Please enter numerical values\")"
   ]
  },
  {
   "cell_type": "markdown",
   "metadata": {},
   "source": [
    "# Question 4"
   ]
  },
  {
   "cell_type": "code",
   "execution_count": 4,
   "metadata": {},
   "outputs": [
    {
     "name": "stdout",
     "output_type": "stream",
     "text": [
      "Enter  sal value: 200\n",
      "Enter years of service with the organization: 5\n",
      "the bonus is 10.0 and the Net Bonus is 210.0\n"
     ]
    }
   ],
   "source": [
    "try:\n",
    "    sal = float(input(\"Enter  sal value: \"))\n",
    "    yrs = float(input(\"Enter years of service with the organization: \"))\n",
    "    if yrs <=5:\n",
    "        Bonus = 5/100 * sal\n",
    "        Net_bonus = sal + Bonus\n",
    "    elif yrs < 10:\n",
    "        Bonus = 10/100 * sal\n",
    "        Net_bonus = sal + Bonus\n",
    "    elif yrs >=10:\n",
    "        Bonus = 15/100 * sal\n",
    "        Net_bonus = sal + Bonus\n",
    "    print(\"the bonus is\",Bonus,\"and the Net Bonus is\",Net_bonus)\n",
    "except:\n",
    "    print(\"please enter the numerical values .\")"
   ]
  },
  {
   "cell_type": "markdown",
   "metadata": {},
   "source": [
    "# Question 5"
   ]
  },
  {
   "cell_type": "code",
   "execution_count": null,
   "metadata": {},
   "outputs": [
    {
     "name": "stdout",
     "output_type": "stream",
     "text": [
      "Enter the scores: 60\n",
      "Grade: B\n"
     ]
    }
   ],
   "source": [
    "try:    \n",
    "    score = float(input(\"Enter the scores: \"))\n",
    "    \n",
    "    if score < 0:\n",
    "        print(\"Enter a val more than 0\")\n",
    "    elif score  > 100:\n",
    "        print(\"Enter a val less than 100\")\n",
    "    elif score  < 25:\n",
    "        print(\"Grade: F\")\n",
    "    elif score  < 45:\n",
    "        print(\"Grade: E\")\n",
    "    elif score  < 50:\n",
    "        print(\"Grade: D\")\n",
    "    elif score  < 60:\n",
    "        print(\"Grade: c\")\n",
    "    elif score  <= 80:\n",
    "        print(\"Grade: B\")\n",
    "    elif score  > 80:\n",
    "        print(\"Grade: A\")\n",
    "except:\n",
    "    print(\"input the numerical values.\")"
   ]
  },
  {
   "cell_type": "markdown",
   "metadata": {},
   "source": [
    "# Question 6"
   ]
  },
  {
   "cell_type": "code",
   "execution_count": null,
   "metadata": {},
   "outputs": [
    {
     "name": "stdout",
     "output_type": "stream",
     "text": [
      "Enter the  p1 age :5\n",
      "Enter the  p2 age :6\n",
      "Enter the p3 age:9\n",
      "third person is the oldest\n",
      "first person is the youngest\n",
      "the average age is 6.666666666666667\n"
     ]
    }
   ],
   "source": [
    "try:\n",
    "    p1 = int(input(\"Enter the  p1 age :\"))\n",
    "    p2 = int(input(\"Enter the  p2 age :\"))\n",
    "    p3 =int(input(\"Enter the p3 age:\"))\n",
    "    \n",
    "    if p1 > (p2 and p3):\n",
    "        print(\"first person is the oldest\")\n",
    "    elif p2 > (p1 and p3):\n",
    "        print(\"second person is the oldest\")\n",
    "    else:\n",
    "        p3 > (p1 and p2)\n",
    "        print(\"third person is the oldest\")\n",
    "\n",
    "    if p1 < (p2 and p3):\n",
    "        print(\"first person is the youngest\")\n",
    "    elif p2 < (p1 and p3):\n",
    "        print(\"second person is the youngest\")\n",
    "    else:\n",
    "        p3 < (p1 and p2)\n",
    "        print(\"third person is the youngest\")\n",
    "\n",
    "    avg= float((p1+p2+p3)/3)\n",
    "    print (\"the average age is\",avg)\n",
    "except:\n",
    "    print(\"enter numerical values!\")"
   ]
  },
  {
   "cell_type": "markdown",
   "metadata": {},
   "source": [
    "# Question 7"
   ]
  },
  {
   "cell_type": "code",
   "execution_count": 1,
   "metadata": {},
   "outputs": [
    {
     "name": "stdout",
     "output_type": "stream",
     "text": [
      "Enter the number of classes held: 2\n",
      "Enter the number of classes attended: 2\n",
      "Attendance: 100.0 %\n",
      "proceed for exams.\n"
     ]
    }
   ],
   "source": [
    "try:\n",
    "    classheld = float(input(\"Enter the number of classes held: \"))\n",
    "    classattended = float(input(\"Enter the number of classes attended: \"))\n",
    "    \n",
    "    attendance = (classattended/classheld)*100\n",
    "    print(\"Attendance:\",attendance,\"%\")\n",
    "    if attendance > 100 or attendance < 0:\n",
    "        print(\"Please enter correct class attendance/classes held.\")\n",
    "    elif attendance >= 75:\n",
    "        print(\"proceed for exams.\")\n",
    "    else:\n",
    "        print(\"do not proceed for exams.\")\n",
    "        \n",
    "except:\n",
    "    print(\"Please enter numerical values only.\")"
   ]
  },
  {
   "cell_type": "markdown",
   "metadata": {},
   "source": [
    "# Question 8"
   ]
  },
  {
   "cell_type": "code",
   "execution_count": 2,
   "metadata": {},
   "outputs": [
    {
     "name": "stdout",
     "output_type": "stream",
     "text": [
      "Enter classes held: 4\n",
      "Enter classes attended: 5\n",
      "Do you have a medical cause: Y/N- y\n",
      "Attendance: 125.0 %\n",
      "Please enter correct class attendance/classes held.\n"
     ]
    }
   ],
   "source": [
    "try:\n",
    "    held = float(input(\"Enter classes held: \"))\n",
    "    attended = float(input(\"Enter classes attended: \"))\n",
    "    medical_cause = str(input(\"Do you have a medical cause: Y/N- \"))\n",
    "    \n",
    "    attendance = (attended/held)*100\n",
    "    print(\"Attendance:\",attendance,\"%\")\n",
    "    if attendance > 100 or attendance < 0:\n",
    "        print(\"Please enter correct class attendance/classes held.\")\n",
    "    elif attendance >= 75 or medical_cause == \"Y\":\n",
    "        print(\"proceed  for exams.\")\n",
    "    else:\n",
    "        print(\"do not proceed for exams.\")\n",
    "        accepted=input(\"Do you have a medical cause/evidence:(Y/N)-\")\n",
    "        if accepted == \"Y\":\n",
    "            print(\"accepted to sit for the exam.\")\n",
    "        elif accepted== \"N\":\n",
    "            print (\"proceed for the exam.\")\n",
    "        else:\n",
    "            print(\"input a 'yes' or 'no' !\")\n",
    "except:\n",
    "    print(\"Please enter numerical values only.\")"
   ]
  },
  {
   "cell_type": "code",
   "execution_count": null,
   "metadata": {},
   "outputs": [],
   "source": []
  }
 ],
 "metadata": {
  "kernelspec": {
   "display_name": "Python 3",
   "language": "python",
   "name": "python3"
  },
  "language_info": {
   "codemirror_mode": {
    "name": "ipython",
    "version": 3
   },
   "file_extension": ".py",
   "mimetype": "text/x-python",
   "name": "python",
   "nbconvert_exporter": "python",
   "pygments_lexer": "ipython3",
   "version": "3.7.3"
  }
 },
 "nbformat": 4,
 "nbformat_minor": 2
}
