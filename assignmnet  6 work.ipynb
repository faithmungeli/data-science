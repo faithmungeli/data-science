{
 "cells": [
  {
   "cell_type": "markdown",
   "metadata": {},
   "source": [
    "From mbox.txt , the file which has emails do:\n",
    "1. Find the most frequent day that people send emails, all emails that starts with FROM;\n"
   ]
  },
  {
   "cell_type": "code",
   "execution_count": 6,
   "metadata": {},
   "outputs": [
    {
     "name": "stdout",
     "output_type": "stream",
     "text": [
      "The most frequent day that people sent mails is , Thu , 352 times\n"
     ]
    }
   ],
   "source": [
    "fhandle = open(\"mbox.txt\",\"r\")\n",
    "days = list()\n",
    "count = 0\n",
    "for i in fhandle:\n",
    "    if i.startswith(\"From \"):\n",
    "        x = i.split()\n",
    "        y = x[2]\n",
    "        days.append(y)\n",
    "\n",
    "for n in days:\n",
    "    x = days.count(n)\n",
    "    if x > count:\n",
    "        y = n\n",
    "        count = x\n",
    "print(\"The most frequent day that people sent mails is ,\", y,\",\",count,\"times\")"
   ]
  },
  {
   "cell_type": "markdown",
   "metadata": {},
   "source": [
    "2.Find the most frequent day of the month that people send emails, all emails that starts with FROM;"
   ]
  },
  {
   "cell_type": "code",
   "execution_count": 7,
   "metadata": {},
   "outputs": [
    {
     "name": "stdout",
     "output_type": "stream",
     "text": [
      "The most frequent day that people sent mails is , 29 , 140 times\n"
     ]
    }
   ],
   "source": [
    "fhandle = open(\"mbox.txt\",\"r\")\n",
    "dates = list()\n",
    "count = 0\n",
    "for i in fhandle:\n",
    "    if i.startswith(\"From \"):\n",
    "        x = i.split()\n",
    "        y = x[4]\n",
    "        dates.append(y)\n",
    "\n",
    "for n in dates:\n",
    "    x = dates.count(n)\n",
    "    if x > count:\n",
    "        y = n\n",
    "        count = x\n",
    "print(\"The most frequent day that people sent mails is ,\", y,\",\",count,\"times\")"
   ]
  },
  {
   "cell_type": "code",
   "execution_count": null,
   "metadata": {},
   "outputs": [],
   "source": []
  },
  {
   "cell_type": "code",
   "execution_count": null,
   "metadata": {},
   "outputs": [],
   "source": []
  },
  {
   "cell_type": "code",
   "execution_count": null,
   "metadata": {},
   "outputs": [],
   "source": []
  }
 ],
 "metadata": {
  "kernelspec": {
   "display_name": "Python 3",
   "language": "python",
   "name": "python3"
  },
  "language_info": {
   "codemirror_mode": {
    "name": "ipython",
    "version": 3
   },
   "file_extension": ".py",
   "mimetype": "text/x-python",
   "name": "python",
   "nbconvert_exporter": "python",
   "pygments_lexer": "ipython3",
   "version": "3.7.3"
  }
 },
 "nbformat": 4,
 "nbformat_minor": 2
}
