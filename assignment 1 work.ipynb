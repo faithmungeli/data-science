{
 "cells": [
  {
   "cell_type": "markdown",
   "metadata": {},
   "source": [
    "Write a program to prompt the user for hours and rate per hour to compute gross pay \n",
    "Enter hours : 35 \n",
    "Enter rate : 2.75 \n",
    "Pay : 96.25 "
   ]
  },
  {
   "cell_type": "code",
   "execution_count": 1,
   "metadata": {},
   "outputs": [
    {
     "name": "stdout",
     "output_type": "stream",
     "text": [
      "Enter hours:35\n",
      "Enter rate:2.75\n",
      "96.25\n"
     ]
    }
   ],
   "source": [
    "hours = input(\"Enter hours:\")\n",
    "rate = input(\"Enter rate:\")\n",
    "hours = float(hours)\n",
    "rate = float(rate)\n",
    "pay = hours * rate\n",
    "print(pay)"
   ]
  },
  {
   "cell_type": "code",
   "execution_count": null,
   "metadata": {},
   "outputs": [],
   "source": []
  }
 ],
 "metadata": {
  "kernelspec": {
   "display_name": "Python 3",
   "language": "python",
   "name": "python3"
  },
  "language_info": {
   "codemirror_mode": {
    "name": "ipython",
    "version": 3
   },
   "file_extension": ".py",
   "mimetype": "text/x-python",
   "name": "python",
   "nbconvert_exporter": "python",
   "pygments_lexer": "ipython3",
   "version": "3.7.3"
  }
 },
 "nbformat": 4,
 "nbformat_minor": 2
}
